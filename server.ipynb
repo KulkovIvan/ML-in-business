{
 "cells": [
  {
   "cell_type": "code",
   "execution_count": 1,
   "id": "23bc4cb1",
   "metadata": {},
   "outputs": [],
   "source": [
    "import pandas as pd\n",
    "import dill\n",
    "import numpy as np\n",
    "from sklearn.model_selection import train_test_split\n",
    "from sklearn.base import BaseEstimator, TransformerMixin\n",
    "from sklearn.ensemble import RandomForestClassifier\n",
    "from sklearn.metrics import confusion_matrix, accuracy_score, classification_report\n",
    "from sklearn.metrics import roc_auc_score, roc_curve, precision_recall_curve\n",
    "from sklearn.metrics import f1_score\n",
    "\n",
    "\n",
    "#pipeline\n",
    "from sklearn.pipeline import Pipeline, FeatureUnion\n",
    "from sklearn.metrics import precision_score,recall_score\n",
    "\n",
    "#imputer\n",
    "from sklearn.impute import SimpleImputer"
   ]
  },
  {
   "cell_type": "code",
   "execution_count": 22,
   "id": "0d3b716a",
   "metadata": {},
   "outputs": [
    {
     "name": "stdout",
     "output_type": "stream",
     "text": [
      "Collecting wget\n",
      "  Using cached wget-3.2.zip (10 kB)\n",
      "Building wheels for collected packages: wget\n",
      "  Building wheel for wget (setup.py): started\n",
      "  Building wheel for wget (setup.py): finished with status 'done'\n",
      "  Created wheel for wget: filename=wget-3.2-py3-none-any.whl size=9680 sha256=d34e2156ba3a1f22900fbec0f8c0ee5964240e0c3ca2615e9351b33442d6fab2\n",
      "  Stored in directory: c:\\users\\user\\appdata\\local\\pip\\cache\\wheels\\bd\\a8\\c3\\3cf2c14a1837a4e04bd98631724e81f33f462d86a1d895fae0\n",
      "Successfully built wget\n",
      "Installing collected packages: wget\n",
      "Successfully installed wget-3.2\n",
      "Note: you may need to restart the kernel to use updated packages.\n"
     ]
    }
   ],
   "source": [
    "pip install wget"
   ]
  },
  {
   "cell_type": "code",
   "execution_count": 36,
   "id": "954cc0ed",
   "metadata": {},
   "outputs": [
    {
     "name": "stdout",
     "output_type": "stream",
     "text": [
      "Note: you may need to restart the kernel to use updated packages.\n"
     ]
    },
    {
     "name": "stderr",
     "output_type": "stream",
     "text": [
      "ERROR: Could not find a version that satisfies the requirement tarfile\n",
      "ERROR: No matching distribution found for tarfile\n"
     ]
    }
   ],
   "source": []
  },
  {
   "cell_type": "code",
   "execution_count": 3,
   "id": "acaaad98",
   "metadata": {},
   "outputs": [
    {
     "data": {
      "text/html": [
       "<div>\n",
       "<style scoped>\n",
       "    .dataframe tbody tr th:only-of-type {\n",
       "        vertical-align: middle;\n",
       "    }\n",
       "\n",
       "    .dataframe tbody tr th {\n",
       "        vertical-align: top;\n",
       "    }\n",
       "\n",
       "    .dataframe thead th {\n",
       "        text-align: right;\n",
       "    }\n",
       "</style>\n",
       "<table border=\"1\" class=\"dataframe\">\n",
       "  <thead>\n",
       "    <tr style=\"text-align: right;\">\n",
       "      <th></th>\n",
       "      <th>Home Ownership</th>\n",
       "      <th>Annual Income</th>\n",
       "      <th>Years in current job</th>\n",
       "      <th>Tax Liens</th>\n",
       "      <th>Number of Open Accounts</th>\n",
       "      <th>Years of Credit History</th>\n",
       "      <th>Maximum Open Credit</th>\n",
       "      <th>Number of Credit Problems</th>\n",
       "      <th>Months since last delinquent</th>\n",
       "      <th>Bankruptcies</th>\n",
       "      <th>Purpose</th>\n",
       "      <th>Term</th>\n",
       "      <th>Current Loan Amount</th>\n",
       "      <th>Current Credit Balance</th>\n",
       "      <th>Monthly Debt</th>\n",
       "      <th>Credit Score</th>\n",
       "      <th>Credit Default</th>\n",
       "    </tr>\n",
       "  </thead>\n",
       "  <tbody>\n",
       "    <tr>\n",
       "      <th>0</th>\n",
       "      <td>Own Home</td>\n",
       "      <td>482087.0</td>\n",
       "      <td>NaN</td>\n",
       "      <td>0.0</td>\n",
       "      <td>11.0</td>\n",
       "      <td>26.3</td>\n",
       "      <td>685960.0</td>\n",
       "      <td>1.0</td>\n",
       "      <td>NaN</td>\n",
       "      <td>1.0</td>\n",
       "      <td>debt consolidation</td>\n",
       "      <td>Short Term</td>\n",
       "      <td>99999999.0</td>\n",
       "      <td>47386.0</td>\n",
       "      <td>7914.0</td>\n",
       "      <td>749.0</td>\n",
       "      <td>0</td>\n",
       "    </tr>\n",
       "    <tr>\n",
       "      <th>1</th>\n",
       "      <td>Own Home</td>\n",
       "      <td>1025487.0</td>\n",
       "      <td>10+ years</td>\n",
       "      <td>0.0</td>\n",
       "      <td>15.0</td>\n",
       "      <td>15.3</td>\n",
       "      <td>1181730.0</td>\n",
       "      <td>0.0</td>\n",
       "      <td>NaN</td>\n",
       "      <td>0.0</td>\n",
       "      <td>debt consolidation</td>\n",
       "      <td>Long Term</td>\n",
       "      <td>264968.0</td>\n",
       "      <td>394972.0</td>\n",
       "      <td>18373.0</td>\n",
       "      <td>737.0</td>\n",
       "      <td>1</td>\n",
       "    </tr>\n",
       "    <tr>\n",
       "      <th>2</th>\n",
       "      <td>Home Mortgage</td>\n",
       "      <td>751412.0</td>\n",
       "      <td>8 years</td>\n",
       "      <td>0.0</td>\n",
       "      <td>11.0</td>\n",
       "      <td>35.0</td>\n",
       "      <td>1182434.0</td>\n",
       "      <td>0.0</td>\n",
       "      <td>NaN</td>\n",
       "      <td>0.0</td>\n",
       "      <td>debt consolidation</td>\n",
       "      <td>Short Term</td>\n",
       "      <td>99999999.0</td>\n",
       "      <td>308389.0</td>\n",
       "      <td>13651.0</td>\n",
       "      <td>742.0</td>\n",
       "      <td>0</td>\n",
       "    </tr>\n",
       "    <tr>\n",
       "      <th>3</th>\n",
       "      <td>Own Home</td>\n",
       "      <td>805068.0</td>\n",
       "      <td>6 years</td>\n",
       "      <td>0.0</td>\n",
       "      <td>8.0</td>\n",
       "      <td>22.5</td>\n",
       "      <td>147400.0</td>\n",
       "      <td>1.0</td>\n",
       "      <td>NaN</td>\n",
       "      <td>1.0</td>\n",
       "      <td>debt consolidation</td>\n",
       "      <td>Short Term</td>\n",
       "      <td>121396.0</td>\n",
       "      <td>95855.0</td>\n",
       "      <td>11338.0</td>\n",
       "      <td>694.0</td>\n",
       "      <td>0</td>\n",
       "    </tr>\n",
       "    <tr>\n",
       "      <th>4</th>\n",
       "      <td>Rent</td>\n",
       "      <td>776264.0</td>\n",
       "      <td>8 years</td>\n",
       "      <td>0.0</td>\n",
       "      <td>13.0</td>\n",
       "      <td>13.6</td>\n",
       "      <td>385836.0</td>\n",
       "      <td>1.0</td>\n",
       "      <td>NaN</td>\n",
       "      <td>0.0</td>\n",
       "      <td>debt consolidation</td>\n",
       "      <td>Short Term</td>\n",
       "      <td>125840.0</td>\n",
       "      <td>93309.0</td>\n",
       "      <td>7180.0</td>\n",
       "      <td>719.0</td>\n",
       "      <td>0</td>\n",
       "    </tr>\n",
       "  </tbody>\n",
       "</table>\n",
       "</div>"
      ],
      "text/plain": [
       "  Home Ownership  Annual Income Years in current job  Tax Liens  \\\n",
       "0       Own Home       482087.0                  NaN        0.0   \n",
       "1       Own Home      1025487.0            10+ years        0.0   \n",
       "2  Home Mortgage       751412.0              8 years        0.0   \n",
       "3       Own Home       805068.0              6 years        0.0   \n",
       "4           Rent       776264.0              8 years        0.0   \n",
       "\n",
       "   Number of Open Accounts  Years of Credit History  Maximum Open Credit  \\\n",
       "0                     11.0                     26.3             685960.0   \n",
       "1                     15.0                     15.3            1181730.0   \n",
       "2                     11.0                     35.0            1182434.0   \n",
       "3                      8.0                     22.5             147400.0   \n",
       "4                     13.0                     13.6             385836.0   \n",
       "\n",
       "   Number of Credit Problems  Months since last delinquent  Bankruptcies  \\\n",
       "0                        1.0                           NaN           1.0   \n",
       "1                        0.0                           NaN           0.0   \n",
       "2                        0.0                           NaN           0.0   \n",
       "3                        1.0                           NaN           1.0   \n",
       "4                        1.0                           NaN           0.0   \n",
       "\n",
       "              Purpose        Term  Current Loan Amount  \\\n",
       "0  debt consolidation  Short Term           99999999.0   \n",
       "1  debt consolidation   Long Term             264968.0   \n",
       "2  debt consolidation  Short Term           99999999.0   \n",
       "3  debt consolidation  Short Term             121396.0   \n",
       "4  debt consolidation  Short Term             125840.0   \n",
       "\n",
       "   Current Credit Balance  Monthly Debt  Credit Score  Credit Default  \n",
       "0                 47386.0        7914.0         749.0               0  \n",
       "1                394972.0       18373.0         737.0               1  \n",
       "2                308389.0       13651.0         742.0               0  \n",
       "3                 95855.0       11338.0         694.0               0  \n",
       "4                 93309.0        7180.0         719.0               0  "
      ]
     },
     "execution_count": 3,
     "metadata": {},
     "output_type": "execute_result"
    }
   ],
   "source": [
    "df = pd.read_csv('data.csv')\n",
    "df.head(5)"
   ]
  },
  {
   "cell_type": "code",
   "execution_count": 4,
   "id": "3df7b56c",
   "metadata": {},
   "outputs": [],
   "source": [
    "df.dropna(inplace=True)"
   ]
  },
  {
   "cell_type": "markdown",
   "id": "fcdc7685",
   "metadata": {},
   "source": [
    "Разделим данные на train/test и сохраним тестовую выборку на диск"
   ]
  },
  {
   "cell_type": "code",
   "execution_count": 5,
   "id": "07447698",
   "metadata": {},
   "outputs": [],
   "source": [
    "X_train, X_test, y_train, y_test = train_test_split(df.drop(['Credit Default' ], axis = 1), df['Credit Default'],\n",
    "                                                    test_size=0.33, random_state=42)\n",
    "# save test\n",
    "X_test.to_csv(\"X_test.csv\", index=None)\n",
    "y_test.to_csv(\"y_test.csv\", index=None)\n",
    "\n",
    "# save train\n",
    "X_train.to_csv(\"X_train.csv\", index=None)\n",
    "y_train.to_csv(\"y_train.csv\", index=None)"
   ]
  },
  {
   "cell_type": "markdown",
   "id": "0952e071",
   "metadata": {},
   "source": [
    "Создадим необходимые пайплайны"
   ]
  },
  {
   "cell_type": "code",
   "execution_count": 6,
   "id": "00feb991",
   "metadata": {},
   "outputs": [],
   "source": [
    "class FeatureSelector(BaseEstimator, TransformerMixin):\n",
    "    def __init__(self, column):\n",
    "        self.column = column\n",
    "\n",
    "    def fit(self, X, y=None):\n",
    "        return self\n",
    "\n",
    "    def transform(self, X, y=None):\n",
    "        return X[self.column]\n",
    "    \n",
    "\n",
    "class NumberSelector(BaseEstimator, TransformerMixin):\n",
    "\n",
    "    def __init__(self, key):\n",
    "        self.key = key\n",
    "\n",
    "    def fit(self, X, y=None):\n",
    "        return self\n",
    "\n",
    "    def transform(self, X):\n",
    "        return X[[self.key]]\n",
    "    \n",
    "    \n",
    "class OHEEncoder(BaseEstimator, TransformerMixin):\n",
    "    def __init__(self, key):\n",
    "        self.key = key\n",
    "        self.columns = []\n",
    "\n",
    "    def fit(self, X, y=None):\n",
    "        self.columns = [col for col in pd.get_dummies(X, prefix=self.key, drop_first=True).columns]\n",
    "        return self\n",
    "\n",
    "    def transform(self, X):\n",
    "        X = pd.get_dummies(X, prefix=self.key, drop_first=True)\n",
    "        test_columns = [col for col in X.columns]\n",
    "        \n",
    "        for col_ in self.columns:\n",
    "            if col_ not in test_columns:\n",
    "                X[col_] = 0\n",
    "        return X[self.columns]\n",
    "    \n",
    "class CatNaNInputer(BaseEstimator, TransformerMixin):\n",
    "    def __init__(self):\n",
    "        \n",
    "        self.frequent_constant = 'None'\n",
    "\n",
    "    def fit(self, X, y=None):\n",
    "        self.frequent_constant = X.mode()[0]\n",
    "        return self\n",
    "\n",
    "    def transform(self, X):\n",
    "        X = X.fillna(self.frequent_constant)\n",
    "        return X"
   ]
  },
  {
   "cell_type": "code",
   "execution_count": 7,
   "id": "a338e81b",
   "metadata": {},
   "outputs": [],
   "source": [
    "continuous_columns = X_train.select_dtypes(include='number').columns.to_list()\n",
    "categorical_columns = X_train.select_dtypes(exclude='number').columns.to_list()"
   ]
  },
  {
   "cell_type": "markdown",
   "id": "87a746ac",
   "metadata": {},
   "source": [
    "Соберем кусок, ответственный за feature engineering"
   ]
  },
  {
   "cell_type": "code",
   "execution_count": 8,
   "id": "96cd9bbb",
   "metadata": {},
   "outputs": [],
   "source": [
    "final_transformers = list()\n",
    "\n",
    "for cat_col in categorical_columns:\n",
    "    cat_transformer = Pipeline([\n",
    "                ('selector', FeatureSelector(column=cat_col)),\n",
    "                ('nan_inputer', CatNaNInputer()),\n",
    "                ('ohe', OHEEncoder(key=cat_col))\n",
    "            ])\n",
    "    \n",
    "    final_transformers.append((cat_col, cat_transformer))\n",
    "    \n",
    "for cont_col in continuous_columns:\n",
    "    cont_transformer = Pipeline([\n",
    "                ('selector', NumberSelector(key=cont_col)),\n",
    "                \n",
    "                ('NAN', SimpleImputer(strategy='median')),\n",
    "                \n",
    "        \n",
    "                \n",
    "            ])\n",
    "    \n",
    "    final_transformers.append((cont_col, cont_transformer))\n",
    "    \n",
    "feats = FeatureUnion(final_transformers)"
   ]
  },
  {
   "cell_type": "markdown",
   "id": "5d136564",
   "metadata": {},
   "source": [
    "Добавим классификатор с подобранными параметрами"
   ]
  },
  {
   "cell_type": "code",
   "execution_count": 9,
   "id": "153a8cc8",
   "metadata": {},
   "outputs": [
    {
     "name": "stdout",
     "output_type": "stream",
     "text": [
      "Wall time: 1.08 s\n"
     ]
    },
    {
     "data": {
      "text/plain": [
       "Pipeline(steps=[('features',\n",
       "                 FeatureUnion(transformer_list=[('Home Ownership',\n",
       "                                                 Pipeline(steps=[('selector',\n",
       "                                                                  FeatureSelector(column='Home '\n",
       "                                                                                         'Ownership')),\n",
       "                                                                 ('nan_inputer',\n",
       "                                                                  CatNaNInputer()),\n",
       "                                                                 ('ohe',\n",
       "                                                                  OHEEncoder(key='Home '\n",
       "                                                                                 'Ownership'))])),\n",
       "                                                ('Years in current job',\n",
       "                                                 Pipeline(steps=[('selector',\n",
       "                                                                  FeatureSelector(column='Years '\n",
       "                                                                                         'in '\n",
       "                                                                                         'current '\n",
       "                                                                                         'job')),\n",
       "                                                                 ('nan_inputer',\n",
       "                                                                  CatNaNInput...\n",
       "                                                 Pipeline(steps=[('selector',\n",
       "                                                                  NumberSelector(key='Monthly '\n",
       "                                                                                     'Debt')),\n",
       "                                                                 ('NAN',\n",
       "                                                                  SimpleImputer(strategy='median'))])),\n",
       "                                                ('Credit Score',\n",
       "                                                 Pipeline(steps=[('selector',\n",
       "                                                                  NumberSelector(key='Credit '\n",
       "                                                                                     'Score')),\n",
       "                                                                 ('NAN',\n",
       "                                                                  SimpleImputer(strategy='median'))]))])),\n",
       "                ('classifier',\n",
       "                 RandomForestClassifier(class_weight='balanced_subsample',\n",
       "                                        max_depth=3, min_samples_leaf=10,\n",
       "                                        n_estimators=600, random_state=7))])"
      ]
     },
     "execution_count": 9,
     "metadata": {},
     "output_type": "execute_result"
    }
   ],
   "source": [
    "%%time\n",
    "model = RandomForestClassifier(random_state=7, class_weight = 'balanced_subsample', max_depth = 3, min_samples_leaf = 10, min_samples_split = 2, n_estimators = 600  )\n",
    "pipeline = Pipeline([\n",
    "    ('features', feats),\n",
    "    ('classifier', model),\n",
    "])\n",
    "\n",
    "pipeline.fit(X_train, y_train)"
   ]
  },
  {
   "cell_type": "code",
   "execution_count": 10,
   "id": "bed85899",
   "metadata": {},
   "outputs": [],
   "source": [
    "with open(\"rf_pipeline.dill\", \"wb\") as f:\n",
    "    dill.dump(pipeline, f)"
   ]
  },
  {
   "cell_type": "markdown",
   "id": "96fec16f",
   "metadata": {},
   "source": [
    "#### Проверка работоспособности и качества пайплайна"
   ]
  },
  {
   "cell_type": "code",
   "execution_count": 11,
   "id": "216400e9",
   "metadata": {},
   "outputs": [],
   "source": [
    "X_test = pd.read_csv(\"X_test.csv\")\n",
    "y_test = pd.read_csv(\"y_test.csv\")"
   ]
  },
  {
   "cell_type": "code",
   "execution_count": 13,
   "id": "e5e35c31",
   "metadata": {},
   "outputs": [
    {
     "data": {
      "text/html": [
       "<div>\n",
       "<style scoped>\n",
       "    .dataframe tbody tr th:only-of-type {\n",
       "        vertical-align: middle;\n",
       "    }\n",
       "\n",
       "    .dataframe tbody tr th {\n",
       "        vertical-align: top;\n",
       "    }\n",
       "\n",
       "    .dataframe thead th {\n",
       "        text-align: right;\n",
       "    }\n",
       "</style>\n",
       "<table border=\"1\" class=\"dataframe\">\n",
       "  <thead>\n",
       "    <tr style=\"text-align: right;\">\n",
       "      <th></th>\n",
       "      <th>Home Ownership</th>\n",
       "      <th>Annual Income</th>\n",
       "      <th>Years in current job</th>\n",
       "      <th>Tax Liens</th>\n",
       "      <th>Number of Open Accounts</th>\n",
       "      <th>Years of Credit History</th>\n",
       "      <th>Maximum Open Credit</th>\n",
       "      <th>Number of Credit Problems</th>\n",
       "      <th>Months since last delinquent</th>\n",
       "      <th>Bankruptcies</th>\n",
       "      <th>Purpose</th>\n",
       "      <th>Term</th>\n",
       "      <th>Current Loan Amount</th>\n",
       "      <th>Current Credit Balance</th>\n",
       "      <th>Monthly Debt</th>\n",
       "      <th>Credit Score</th>\n",
       "    </tr>\n",
       "  </thead>\n",
       "  <tbody>\n",
       "    <tr>\n",
       "      <th>0</th>\n",
       "      <td>Rent</td>\n",
       "      <td>658217.0</td>\n",
       "      <td>10+ years</td>\n",
       "      <td>0.0</td>\n",
       "      <td>9.0</td>\n",
       "      <td>10.9</td>\n",
       "      <td>150260.0</td>\n",
       "      <td>0.0</td>\n",
       "      <td>3.0</td>\n",
       "      <td>0.0</td>\n",
       "      <td>debt consolidation</td>\n",
       "      <td>Short Term</td>\n",
       "      <td>139370.0</td>\n",
       "      <td>53200.0</td>\n",
       "      <td>10970.0</td>\n",
       "      <td>733.0</td>\n",
       "    </tr>\n",
       "    <tr>\n",
       "      <th>1</th>\n",
       "      <td>Home Mortgage</td>\n",
       "      <td>1028242.0</td>\n",
       "      <td>7 years</td>\n",
       "      <td>0.0</td>\n",
       "      <td>6.0</td>\n",
       "      <td>13.9</td>\n",
       "      <td>123596.0</td>\n",
       "      <td>0.0</td>\n",
       "      <td>43.0</td>\n",
       "      <td>0.0</td>\n",
       "      <td>debt consolidation</td>\n",
       "      <td>Short Term</td>\n",
       "      <td>99999999.0</td>\n",
       "      <td>56791.0</td>\n",
       "      <td>9254.0</td>\n",
       "      <td>734.0</td>\n",
       "    </tr>\n",
       "    <tr>\n",
       "      <th>2</th>\n",
       "      <td>Rent</td>\n",
       "      <td>1045323.0</td>\n",
       "      <td>10+ years</td>\n",
       "      <td>0.0</td>\n",
       "      <td>4.0</td>\n",
       "      <td>16.3</td>\n",
       "      <td>299090.0</td>\n",
       "      <td>0.0</td>\n",
       "      <td>33.0</td>\n",
       "      <td>0.0</td>\n",
       "      <td>debt consolidation</td>\n",
       "      <td>Long Term</td>\n",
       "      <td>440132.0</td>\n",
       "      <td>181070.0</td>\n",
       "      <td>11847.0</td>\n",
       "      <td>732.0</td>\n",
       "    </tr>\n",
       "    <tr>\n",
       "      <th>3</th>\n",
       "      <td>Rent</td>\n",
       "      <td>858173.0</td>\n",
       "      <td>&lt; 1 year</td>\n",
       "      <td>0.0</td>\n",
       "      <td>7.0</td>\n",
       "      <td>10.7</td>\n",
       "      <td>213994.0</td>\n",
       "      <td>0.0</td>\n",
       "      <td>30.0</td>\n",
       "      <td>0.0</td>\n",
       "      <td>debt consolidation</td>\n",
       "      <td>Short Term</td>\n",
       "      <td>237622.0</td>\n",
       "      <td>92226.0</td>\n",
       "      <td>9225.0</td>\n",
       "      <td>721.0</td>\n",
       "    </tr>\n",
       "    <tr>\n",
       "      <th>4</th>\n",
       "      <td>Rent</td>\n",
       "      <td>1747772.0</td>\n",
       "      <td>4 years</td>\n",
       "      <td>0.0</td>\n",
       "      <td>13.0</td>\n",
       "      <td>24.8</td>\n",
       "      <td>189398.0</td>\n",
       "      <td>0.0</td>\n",
       "      <td>38.0</td>\n",
       "      <td>0.0</td>\n",
       "      <td>debt consolidation</td>\n",
       "      <td>Long Term</td>\n",
       "      <td>753522.0</td>\n",
       "      <td>161937.0</td>\n",
       "      <td>33499.0</td>\n",
       "      <td>667.0</td>\n",
       "    </tr>\n",
       "  </tbody>\n",
       "</table>\n",
       "</div>"
      ],
      "text/plain": [
       "  Home Ownership  Annual Income Years in current job  Tax Liens  \\\n",
       "0           Rent       658217.0            10+ years        0.0   \n",
       "1  Home Mortgage      1028242.0              7 years        0.0   \n",
       "2           Rent      1045323.0            10+ years        0.0   \n",
       "3           Rent       858173.0             < 1 year        0.0   \n",
       "4           Rent      1747772.0              4 years        0.0   \n",
       "\n",
       "   Number of Open Accounts  Years of Credit History  Maximum Open Credit  \\\n",
       "0                      9.0                     10.9             150260.0   \n",
       "1                      6.0                     13.9             123596.0   \n",
       "2                      4.0                     16.3             299090.0   \n",
       "3                      7.0                     10.7             213994.0   \n",
       "4                     13.0                     24.8             189398.0   \n",
       "\n",
       "   Number of Credit Problems  Months since last delinquent  Bankruptcies  \\\n",
       "0                        0.0                           3.0           0.0   \n",
       "1                        0.0                          43.0           0.0   \n",
       "2                        0.0                          33.0           0.0   \n",
       "3                        0.0                          30.0           0.0   \n",
       "4                        0.0                          38.0           0.0   \n",
       "\n",
       "              Purpose        Term  Current Loan Amount  \\\n",
       "0  debt consolidation  Short Term             139370.0   \n",
       "1  debt consolidation  Short Term           99999999.0   \n",
       "2  debt consolidation   Long Term             440132.0   \n",
       "3  debt consolidation  Short Term             237622.0   \n",
       "4  debt consolidation   Long Term             753522.0   \n",
       "\n",
       "   Current Credit Balance  Monthly Debt  Credit Score  \n",
       "0                 53200.0       10970.0         733.0  \n",
       "1                 56791.0        9254.0         734.0  \n",
       "2                181070.0       11847.0         732.0  \n",
       "3                 92226.0        9225.0         721.0  \n",
       "4                161937.0       33499.0         667.0  "
      ]
     },
     "execution_count": 13,
     "metadata": {},
     "output_type": "execute_result"
    }
   ],
   "source": [
    "X_test.head()"
   ]
  },
  {
   "cell_type": "code",
   "execution_count": 14,
   "id": "9728ed6f",
   "metadata": {},
   "outputs": [],
   "source": [
    "with open('rf_pipeline.dill', 'rb') as in_strm:\n",
    "    pipeline = dill.load(in_strm)"
   ]
  },
  {
   "cell_type": "code",
   "execution_count": 15,
   "id": "4b031817",
   "metadata": {},
   "outputs": [
    {
     "data": {
      "text/plain": [
       "Pipeline(steps=[('features',\n",
       "                 FeatureUnion(transformer_list=[('Home Ownership',\n",
       "                                                 Pipeline(steps=[('selector',\n",
       "                                                                  FeatureSelector(column='Home '\n",
       "                                                                                         'Ownership')),\n",
       "                                                                 ('nan_inputer',\n",
       "                                                                  CatNaNInputer()),\n",
       "                                                                 ('ohe',\n",
       "                                                                  OHEEncoder(key='Home '\n",
       "                                                                                 'Ownership'))])),\n",
       "                                                ('Years in current job',\n",
       "                                                 Pipeline(steps=[('selector',\n",
       "                                                                  FeatureSelector(column='Years '\n",
       "                                                                                         'in '\n",
       "                                                                                         'current '\n",
       "                                                                                         'job')),\n",
       "                                                                 ('nan_inputer',\n",
       "                                                                  CatNaNInput...\n",
       "                                                 Pipeline(steps=[('selector',\n",
       "                                                                  NumberSelector(key='Monthly '\n",
       "                                                                                     'Debt')),\n",
       "                                                                 ('NAN',\n",
       "                                                                  SimpleImputer(strategy='median'))])),\n",
       "                                                ('Credit Score',\n",
       "                                                 Pipeline(steps=[('selector',\n",
       "                                                                  NumberSelector(key='Credit '\n",
       "                                                                                     'Score')),\n",
       "                                                                 ('NAN',\n",
       "                                                                  SimpleImputer(strategy='median'))]))])),\n",
       "                ('classifier',\n",
       "                 RandomForestClassifier(class_weight='balanced_subsample',\n",
       "                                        max_depth=3, min_samples_leaf=10,\n",
       "                                        n_estimators=600, random_state=7))])"
      ]
     },
     "execution_count": 15,
     "metadata": {},
     "output_type": "execute_result"
    }
   ],
   "source": [
    "pipeline"
   ]
  },
  {
   "cell_type": "code",
   "execution_count": 16,
   "id": "c21160dc",
   "metadata": {},
   "outputs": [],
   "source": [
    "preds = pipeline.predict_proba(X_test)[:, 1]\n",
    "\n",
    "pred_df = pd.DataFrame({'preds': preds})\n",
    "pred_df.to_csv(\"test_predictions.csv\", index=None)"
   ]
  },
  {
   "cell_type": "code",
   "execution_count": 17,
   "id": "86e152fb",
   "metadata": {},
   "outputs": [
    {
     "name": "stdout",
     "output_type": "stream",
     "text": [
      "Best Threshold=0.49561633235422825, F-Score=0.590, Precision=0.545, Recall=0.644\n"
     ]
    }
   ],
   "source": [
    "precision, recall, thresholds = precision_recall_curve(y_test, preds)\n",
    "\n",
    "fscore = (2 * precision * recall) / (precision + recall)\n",
    "# locate the index of the largest f score\n",
    "ix = np.argmax(fscore)\n",
    "print(f'Best Threshold={thresholds[ix]}, F-Score={fscore[ix]:.3f}, Precision={precision[ix]:.3f}, Recall={recall[ix]:.3f}')"
   ]
  },
  {
   "cell_type": "code",
   "execution_count": 18,
   "id": "1f95c745",
   "metadata": {},
   "outputs": [
    {
     "name": "stdout",
     "output_type": "stream",
     "text": [
      "Collecting flask-ngrok\n",
      "  Downloading flask_ngrok-0.0.25-py3-none-any.whl (3.1 kB)\n",
      "Requirement already satisfied: Flask>=0.8 in c:\\programdata\\anaconda3\\lib\\site-packages (from flask-ngrok) (1.1.2)\n",
      "Requirement already satisfied: requests in c:\\programdata\\anaconda3\\lib\\site-packages (from flask-ngrok) (2.25.1)\n",
      "Requirement already satisfied: Werkzeug>=0.15 in c:\\programdata\\anaconda3\\lib\\site-packages (from Flask>=0.8->flask-ngrok) (1.0.1)\n",
      "Requirement already satisfied: click>=5.1 in c:\\programdata\\anaconda3\\lib\\site-packages (from Flask>=0.8->flask-ngrok) (7.1.2)\n",
      "Requirement already satisfied: Jinja2>=2.10.1 in c:\\programdata\\anaconda3\\lib\\site-packages (from Flask>=0.8->flask-ngrok) (2.11.3)\n",
      "Requirement already satisfied: itsdangerous>=0.24 in c:\\programdata\\anaconda3\\lib\\site-packages (from Flask>=0.8->flask-ngrok) (1.1.0)\n",
      "Requirement already satisfied: MarkupSafe>=0.23 in c:\\programdata\\anaconda3\\lib\\site-packages (from Jinja2>=2.10.1->Flask>=0.8->flask-ngrok) (1.1.1)\n",
      "Requirement already satisfied: certifi>=2017.4.17 in c:\\programdata\\anaconda3\\lib\\site-packages (from requests->flask-ngrok) (2020.12.5)\n",
      "Requirement already satisfied: idna<3,>=2.5 in c:\\programdata\\anaconda3\\lib\\site-packages (from requests->flask-ngrok) (2.10)\n",
      "Requirement already satisfied: urllib3<1.27,>=1.21.1 in c:\\programdata\\anaconda3\\lib\\site-packages (from requests->flask-ngrok) (1.26.4)\n",
      "Requirement already satisfied: chardet<5,>=3.0.2 in c:\\programdata\\anaconda3\\lib\\site-packages (from requests->flask-ngrok) (4.0.0)\n",
      "Installing collected packages: flask-ngrok\n",
      "Successfully installed flask-ngrok-0.0.25\n"
     ]
    }
   ],
   "source": [
    "!pip install flask-ngrok"
   ]
  },
  {
   "cell_type": "code",
   "execution_count": 21,
   "id": "d9cd3144",
   "metadata": {},
   "outputs": [],
   "source": [
    "from flask_ngrok import run_with_ngrok\n",
    "from flask import Flask, request, jsonify\n",
    "import pandas as pd\n",
    "import dill"
   ]
  },
  {
   "cell_type": "code",
   "execution_count": 32,
   "id": "a43aa890",
   "metadata": {},
   "outputs": [
    {
     "name": "stderr",
     "output_type": "stream",
     "text": [
      "--2022-08-02 13:33:37--  https://bin.equinox.io/c/4VmDzA7iaHb/ngrok-stable-linux-amd64.tgz\n",
      "Resolving bin.equinox.io (bin.equinox.io)... 54.237.133.81, 54.161.241.46, 18.205.222.128, ...\n",
      "Connecting to bin.equinox.io (bin.equinox.io)|54.237.133.81|:443... connected.\n",
      "HTTP request sent, awaiting response... 200 OK\n",
      "Length: 13770165 (13M) [application/octet-stream]\n",
      "Saving to: 'ngrok-stable-linux-amd64.tgz.1'\n",
      "\n",
      "     0K .......... .......... .......... .......... ..........  0% 97,8K 2m17s\n",
      "    50K .......... .......... .......... .......... ..........  0%  244K 96s\n",
      "   100K .......... .......... .......... .......... ..........  1% 34,6M 64s\n",
      "   150K .......... .......... .......... .......... ..........  1%  375K 56s\n",
      "   200K .......... .......... .......... .......... ..........  1%  291K 54s\n",
      "   250K .......... .......... .......... .......... ..........  2% 25,7M 45s\n",
      "   300K .......... .......... .......... .......... ..........  2%  262K 46s\n",
      "   350K .......... .......... .......... .......... ..........  2% 19,4M 40s\n",
      "   400K .......... .......... .......... .......... ..........  3%  233K 41s\n",
      "   450K .......... .......... .......... .......... ..........  3% 36,5M 37s\n",
      "   500K .......... .......... .......... .......... ..........  4%  246K 38s\n",
      "   550K .......... .......... .......... .......... ..........  4% 22,8M 35s\n",
      "   600K .......... .......... .......... .......... ..........  4%  383K 35s\n",
      "   650K .......... .......... .......... .......... ..........  5% 10,6M 32s\n",
      "   700K .......... .......... .......... .......... ..........  5%  294K 33s\n",
      "   750K .......... .......... .......... .......... ..........  5% 21,5M 31s\n",
      "   800K .......... .......... .......... .......... ..........  6%  244K 32s\n",
      "   850K .......... .......... .......... .......... ..........  6% 19,3M 30s\n",
      "   900K .......... .......... .......... .......... ..........  7%  287K 31s\n",
      "   950K .......... .......... .......... .......... ..........  7% 56,5M 29s\n",
      "  1000K .......... .......... .......... .......... ..........  7% 26,5M 28s\n",
      "  1050K .......... .......... .......... .......... ..........  8%  381K 28s\n",
      "  1100K .......... .......... .......... .......... ..........  8% 11,7M 26s\n",
      "  1150K .......... .......... .......... .......... ..........  8%  395K 26s\n",
      "  1200K .......... .......... .......... .......... ..........  9% 11,0M 25s\n",
      "  1250K .......... .......... .......... .......... ..........  9% 11,8M 24s\n",
      "  1300K .......... .......... .......... .......... .......... 10%  405K 24s\n",
      "  1350K .......... .......... .......... .......... .......... 10% 6,37M 24s\n",
      "  1400K .......... .......... .......... .......... .......... 10% 12,3M 23s\n",
      "  1450K .......... .......... .......... .......... .......... 11%  405K 23s\n",
      "  1500K .......... .......... .......... .......... .......... 11% 12,7M 22s\n",
      "  1550K .......... .......... .......... .......... .......... 11% 1,09M 22s\n",
      "  1600K .......... .......... .......... .......... .......... 12%  592K 21s\n",
      "  1650K .......... .......... .......... .......... .......... 12% 12,1M 21s\n",
      "  1700K .......... .......... .......... .......... .......... 13% 8,12M 20s\n",
      "  1750K .......... .......... .......... .......... .......... 13%  417K 20s\n",
      "  1800K .......... .......... .......... .......... .......... 13% 9,22M 20s\n",
      "  1850K .......... .......... .......... .......... .......... 14% 9,72M 19s\n",
      "  1900K .......... .......... .......... .......... .......... 14%  422K 19s\n",
      "  1950K .......... .......... .......... .......... .......... 14% 6,22M 19s\n",
      "  2000K .......... .......... .......... .......... .......... 15% 14,1M 18s\n",
      "  2050K .......... .......... .......... .......... .......... 15%  441K 18s\n",
      "  2100K .......... .......... .......... .......... .......... 15% 4,35M 18s\n",
      "  2150K .......... .......... .......... .......... .......... 16% 10,7M 17s\n",
      "  2200K .......... .......... .......... .......... .......... 16% 9,07M 17s\n",
      "  2250K .......... .......... .......... .......... .......... 17%  430K 17s\n",
      "  2300K .......... .......... .......... .......... .......... 17% 6,03M 17s\n",
      "  2350K .......... .......... .......... .......... .......... 17% 8,02M 16s\n",
      "  2400K .......... .......... .......... .......... .......... 18% 1,57M 16s\n",
      "  2450K .......... .......... .......... .......... .......... 18%  564K 16s\n",
      "  2500K .......... .......... .......... .......... .......... 18% 5,59M 16s\n",
      "  2550K .......... .......... .......... .......... .......... 19% 17,1M 15s\n",
      "  2600K .......... .......... .......... .......... .......... 19% 11,9M 15s\n",
      "  2650K .......... .......... .......... .......... .......... 20%  428K 15s\n",
      "  2700K .......... .......... .......... .......... .......... 20% 8,91M 15s\n",
      "  2750K .......... .......... .......... .......... .......... 20% 4,30M 14s\n",
      "  2800K .......... .......... .......... .......... .......... 21% 2,13M 14s\n",
      "  2850K .......... .......... .......... .......... .......... 21%  544K 14s\n",
      "  2900K .......... .......... .......... .......... .......... 21% 9,93M 14s\n",
      "  2950K .......... .......... .......... .......... .......... 22% 7,28M 14s\n",
      "  3000K .......... .......... .......... .......... .......... 22% 6,63M 13s\n",
      "  3050K .......... .......... .......... .......... .......... 23%  479K 13s\n",
      "  3100K .......... .......... .......... .......... .......... 23% 5,18M 13s\n",
      "  3150K .......... .......... .......... .......... .......... 23% 5,66M 13s\n",
      "  3200K .......... .......... .......... .......... .......... 24% 6,66M 13s\n",
      "  3250K .......... .......... .......... .......... .......... 24%  509K 13s\n",
      "  3300K .......... .......... .......... .......... .......... 24% 3,36M 13s\n",
      "  3350K .......... .......... .......... .......... .......... 25% 8,33M 12s\n",
      "  3400K .......... .......... .......... .......... .......... 25% 5,01M 12s\n",
      "  3450K .......... .......... .......... .......... .......... 26% 11,9M 12s\n",
      "  3500K .......... .......... .......... .......... .......... 26%  467K 12s\n",
      "  3550K .......... .......... .......... .......... .......... 26% 5,69M 12s\n",
      "  3600K .......... .......... .......... .......... .......... 27% 11,3M 12s\n",
      "  3650K .......... .......... .......... .......... .......... 27% 6,91M 11s\n",
      "  3700K .......... .......... .......... .......... .......... 27% 7,22M 11s\n",
      "  3750K .......... .......... .......... .......... .......... 28%  471K 11s\n",
      "  3800K .......... .......... .......... .......... .......... 28% 10,1M 11s\n",
      "  3850K .......... .......... .......... .......... .......... 29% 5,40M 11s\n",
      "  3900K .......... .......... .......... .......... .......... 29% 18,3M 11s\n",
      "  3950K .......... .......... .......... .......... .......... 29% 5,87M 11s\n",
      "  4000K .......... .......... .......... .......... .......... 30%  479K 11s\n",
      "  4050K .......... .......... .......... .......... .......... 30% 7,98M 10s\n",
      "  4100K .......... .......... .......... .......... .......... 30% 5,48M 10s\n",
      "  4150K .......... .......... .......... .......... .......... 31% 7,59M 10s\n",
      "  4200K .......... .......... .......... .......... .......... 31% 13,5M 10s\n",
      "  4250K .......... .......... .......... .......... .......... 31% 11,3M 10s\n",
      "  4300K .......... .......... .......... .......... .......... 32%  481K 10s\n",
      "  4350K .......... .......... .......... .......... .......... 32% 4,76M 10s\n",
      "  4400K .......... .......... .......... .......... .......... 33% 7,20M 10s\n",
      "  4450K .......... .......... .......... .......... .......... 33% 4,00M 9s\n",
      "  4500K .......... .......... .......... .......... .......... 33% 11,6M 9s\n",
      "  4550K .......... .......... .......... .......... .......... 34% 11,5M 9s\n",
      "  4600K .......... .......... .......... .......... .......... 34%  530K 9s\n",
      "  4650K .......... .......... .......... .......... .......... 34% 5,66M 9s\n",
      "  4700K .......... .......... .......... .......... .......... 35% 7,50M 9s\n",
      "  4750K .......... .......... .......... .......... .......... 35% 3,47M 9s\n",
      "  4800K .......... .......... .......... .......... .......... 36% 10,3M 9s\n",
      "  4850K .......... .......... .......... .......... .......... 36% 13,3M 8s\n",
      "  4900K .......... .......... .......... .......... .......... 36%  535K 9s\n",
      "  4950K .......... .......... .......... .......... .......... 37% 6,31M 8s\n",
      "  5000K .......... .......... .......... .......... .......... 37% 7,19M 8s\n",
      "  5050K .......... .......... .......... .......... .......... 37% 4,32M 8s\n",
      "  5100K .......... .......... .......... .......... .......... 38% 7,18M 8s\n",
      "  5150K .......... .......... .......... .......... .......... 38% 8,36M 8s\n",
      "  5200K .......... .......... .......... .......... .......... 39%  551K 8s\n",
      "  5250K .......... .......... .......... .......... .......... 39% 5,89M 8s\n",
      "  5300K .......... .......... .......... .......... .......... 39% 8,11M 8s\n",
      "  5350K .......... .......... .......... .......... .......... 40% 6,10M 8s\n",
      "  5400K .......... .......... .......... .......... .......... 40% 5,15M 8s\n",
      "  5450K .......... .......... .......... .......... .......... 40% 7,18M 7s\n",
      "  5500K .......... .......... .......... .......... .......... 41% 15,1M 7s\n",
      "  5550K .......... .......... .......... .......... .......... 41%  541K 7s\n",
      "  5600K .......... .......... .......... .......... .......... 42% 6,79M 7s\n",
      "  5650K .......... .......... .......... .......... .......... 42% 9,78M 7s\n",
      "  5700K .......... .......... .......... .......... .......... 42% 5,96M 7s\n",
      "  5750K .......... .......... .......... .......... .......... 43% 5,51M 7s\n",
      "  5800K .......... .......... .......... .......... .......... 43% 6,97M 7s\n",
      "  5850K .......... .......... .......... .......... .......... 43% 11,2M 7s\n",
      "  5900K .......... .......... .......... .......... .......... 44%  572K 7s\n",
      "  5950K .......... .......... .......... .......... .......... 44% 4,88M 7s\n",
      "  6000K .......... .......... .......... .......... .......... 44% 11,5M 7s\n",
      "  6050K .......... .......... .......... .......... .......... 45% 5,23M 6s\n",
      "  6100K .......... .......... .......... .......... .......... 45% 6,46M 6s\n",
      "  6150K .......... .......... .......... .......... .......... 46% 5,84M 6s\n",
      "  6200K .......... .......... .......... .......... .......... 46% 10,2M 6s\n",
      "  6250K .......... .......... .......... .......... .......... 46%  618K 6s\n",
      "  6300K .......... .......... .......... .......... .......... 47% 3,92M 6s\n",
      "  6350K .......... .......... .......... .......... .......... 47% 6,41M 6s\n",
      "  6400K .......... .......... .......... .......... .......... 47% 12,1M 6s\n",
      "  6450K .......... .......... .......... .......... .......... 48% 6,09M 6s\n",
      "  6500K .......... .......... .......... .......... .......... 48% 4,12M 6s\n",
      "  6550K .......... .......... .......... .......... .......... 49% 11,9M 6s\n",
      "  6600K .......... .......... .......... .......... .......... 49% 11,3M 6s\n",
      "  6650K .......... .......... .......... .......... .......... 49%  599K 6s\n",
      "  6700K .......... .......... .......... .......... .......... 50% 3,80M 6s\n",
      "  6750K .......... .......... .......... .......... .......... 50% 9,25M 6s\n",
      "  6800K .......... .......... .......... .......... .......... 50% 9,02M 5s\n",
      "  6850K .......... .......... .......... .......... .......... 51% 7,59M 5s\n",
      "  6900K .......... .......... .......... .......... .......... 51% 5,45M 5s\n",
      "  6950K .......... .......... .......... .......... .......... 52% 8,93M 5s\n",
      "  7000K .......... .......... .......... .......... .......... 52% 11,9M 5s\n",
      "  7050K .......... .......... .......... .......... .......... 52%  611K 5s\n",
      "  7100K .......... .......... .......... .......... .......... 53% 7,39M 5s\n",
      "  7150K .......... .......... .......... .......... .......... 53% 3,27M 5s\n",
      "  7200K .......... .......... .......... .......... .......... 53% 10,5M 5s\n",
      "  7250K .......... .......... .......... .......... .......... 54% 6,82M 5s\n",
      "  7300K .......... .......... .......... .......... .......... 54% 11,0M 5s\n",
      "  7350K .......... .......... .......... .......... .......... 55% 9,83M 5s\n",
      "  7400K .......... .......... .......... .......... .......... 55% 8,78M 5s\n",
      "  7450K .......... .......... .......... .......... .......... 55% 9,51M 5s\n",
      "  7500K .......... .......... .......... .......... .......... 56%  610K 5s\n",
      "  7550K .......... .......... .......... .......... .......... 56% 4,10M 5s\n",
      "  7600K .......... .......... .......... .......... .......... 56% 6,06M 4s\n",
      "  7650K .......... .......... .......... .......... .......... 57% 12,3M 4s\n",
      "  7700K .......... .......... .......... .......... .......... 57% 7,15M 4s\n",
      "  7750K .......... .......... .......... .......... .......... 58% 13,2M 4s\n",
      "  7800K .......... .......... .......... .......... .......... 58% 9,06M 4s\n",
      "  7850K .......... .......... .......... .......... .......... 58% 10,4M 4s\n",
      "  7900K .......... .......... .......... .......... .......... 59% 6,48M 4s\n",
      "  7950K .......... .......... .......... .......... .......... 59%  624K 4s\n",
      "  8000K .......... .......... .......... .......... .......... 59% 5,05M 4s\n",
      "  8050K .......... .......... .......... .......... .......... 60% 3,68M 4s\n",
      "  8100K .......... .......... .......... .......... .......... 60% 12,4M 4s\n",
      "  8150K .......... .......... .......... .......... .......... 60% 10,2M 4s\n",
      "  8200K .......... .......... .......... .......... .......... 61% 7,00M 4s\n",
      "  8250K .......... .......... .......... .......... .......... 61% 10,4M 4s\n",
      "  8300K .......... .......... .......... .......... .......... 62% 12,8M 4s\n",
      "  8350K .......... .......... .......... .......... .......... 62% 8,35M 4s\n",
      "  8400K .......... .......... .......... .......... .......... 62%  662K 4s\n",
      "  8450K .......... .......... .......... .......... .......... 63% 6,06M 4s\n",
      "  8500K .......... .......... .......... .......... .......... 63% 6,01M 4s\n",
      "  8550K .......... .......... .......... .......... .......... 63% 4,53M 3s\n",
      "  8600K .......... .......... .......... .......... .......... 64% 8,24M 3s\n",
      "  8650K .......... .......... .......... .......... .......... 64% 9,55M 3s\n",
      "  8700K .......... .......... .......... .......... .......... 65% 3,17M 3s\n",
      "  8750K .......... .......... .......... .......... .......... 65% 13,3M 3s\n",
      "  8800K .......... .......... .......... .......... .......... 65% 11,6M 3s\n",
      "  8850K .......... .......... .......... .......... .......... 66% 20,2M 3s\n",
      "  8900K .......... .......... .......... .......... .......... 66%  743K 3s\n",
      "  8950K .......... .......... .......... .......... .......... 66% 5,71M 3s\n",
      "  9000K .......... .......... .......... .......... .......... 67% 8,55M 3s\n",
      "  9050K .......... .......... .......... .......... .......... 67% 3,66M 3s\n",
      "  9100K .......... .......... .......... .......... .......... 68% 9,28M 3s\n",
      "  9150K .......... .......... .......... .......... .......... 68% 2,47M 3s\n",
      "  9200K .......... .......... .......... .......... .......... 68% 7,67M 3s\n",
      "  9250K .......... .......... .......... .......... .......... 69% 10,5M 3s\n",
      "  9300K .......... .......... .......... .......... .......... 69% 14,6M 3s\n",
      "  9350K .......... .......... .......... .......... .......... 69% 11,1M 3s\n",
      "  9400K .......... .......... .......... .......... .......... 70%  923K 3s\n",
      "  9450K .......... .......... .......... .......... .......... 70% 4,70M 3s\n",
      "  9500K .......... .......... .......... .......... .......... 71% 6,15M 3s\n",
      "  9550K .......... .......... .......... .......... .......... 71% 4,22M 3s\n",
      "  9600K .......... .......... .......... .......... .......... 71% 7,90M 3s\n",
      "  9650K .......... .......... .......... .......... .......... 72% 7,05M 2s\n",
      "  9700K .......... .......... .......... .......... .......... 72% 3,07M 2s\n",
      "  9750K .......... .......... .......... .......... .......... 72% 7,56M 2s\n",
      "  9800K .......... .......... .......... .......... .......... 73% 10,5M 2s\n",
      "  9850K .......... .......... .......... .......... .......... 73% 6,84M 2s\n",
      "  9900K .......... .......... .......... .......... .......... 73% 12,5M 2s\n",
      "  9950K .......... .......... .......... .......... .......... 74%  951K 2s\n",
      " 10000K .......... .......... .......... .......... .......... 74% 3,09M 2s\n",
      " 10050K .......... .......... .......... .......... .......... 75% 12,0M 2s\n",
      " 10100K .......... .......... .......... .......... .......... 75% 13,1M 2s\n",
      " 10150K .......... .......... .......... .......... .......... 75% 5,18M 2s\n",
      " 10200K .......... .......... .......... .......... .......... 76% 8,59M 2s\n",
      " 10250K .......... .......... .......... .......... .......... 76% 9,22M 2s\n",
      " 10300K .......... .......... .......... .......... .......... 76% 2,63M 2s\n",
      " 10350K .......... .......... .......... .......... .......... 77% 8,06M 2s\n",
      " 10400K .......... .......... .......... .......... .......... 77% 12,7M 2s\n",
      " 10450K .......... .......... .......... .......... .......... 78% 7,88M 2s\n",
      " 10500K .......... .......... .......... .......... .......... 78% 1,07M 2s\n",
      " 10550K .......... .......... .......... .......... .......... 78% 3,59M 2s\n",
      " 10600K .......... .......... .......... .......... .......... 79% 4,17M 2s\n",
      " 10650K .......... .......... .......... .......... .......... 79% 10,7M 2s\n",
      " 10700K .......... .......... .......... .......... .......... 79% 6,14M 2s\n",
      " 10750K .......... .......... .......... .......... .......... 80% 8,36M 2s\n",
      " 10800K .......... .......... .......... .......... .......... 80% 10,1M 2s\n",
      " 10850K .......... .......... .......... .......... .......... 81% 2,61M 2s\n",
      " 10900K .......... .......... .......... .......... .......... 81% 9,99M 2s\n",
      " 10950K .......... .......... .......... .......... .......... 81% 11,1M 1s\n",
      " 11000K .......... .......... .......... .......... .......... 82% 8,45M 1s\n",
      " 11050K .......... .......... .......... .......... .......... 82% 11,4M 1s\n",
      " 11100K .......... .......... .......... .......... .......... 82% 1,14M 1s\n",
      " 11150K .......... .......... .......... .......... .......... 83% 3,23M 1s\n",
      " 11200K .......... .......... .......... .......... .......... 83% 3,10M 1s\n",
      " 11250K .......... .......... .......... .......... .......... 84% 12,9M 1s\n",
      " 11300K .......... .......... .......... .......... .......... 84% 10,9M 1s\n",
      " 11350K .......... .......... .......... .......... .......... 84% 7,34M 1s\n",
      " 11400K .......... .......... .......... .......... .......... 85% 10,5M 1s\n",
      " 11450K .......... .......... .......... .......... .......... 85% 12,6M 1s\n",
      " 11500K .......... .......... .......... .......... .......... 85% 2,61M 1s\n",
      " 11550K .......... .......... .......... .......... .......... 86% 9,04M 1s\n",
      " 11600K .......... .......... .......... .......... .......... 86% 8,64M 1s\n",
      " 11650K .......... .......... .......... .......... .......... 87% 11,6M 1s\n",
      " 11700K .......... .......... .......... .......... .......... 87% 12,2M 1s\n",
      " 11750K .......... .......... .......... .......... .......... 87% 1,02M 1s\n",
      " 11800K .......... .......... .......... .......... .......... 88% 6,83M 1s\n",
      " 11850K .......... .......... .......... .......... .......... 88% 3,12M 1s\n",
      " 11900K .......... .......... .......... .......... .......... 88% 11,6M 1s\n",
      " 11950K .......... .......... .......... .......... .......... 89% 5,90M 1s\n",
      " 12000K .......... .......... .......... .......... .......... 89% 9,09M 1s\n",
      " 12050K .......... .......... .......... .......... .......... 89% 13,0M 1s\n",
      " 12100K .......... .......... .......... .......... .......... 90% 6,04M 1s\n",
      " 12150K .......... .......... .......... .......... .......... 90% 3,96M 1s\n",
      " 12200K .......... .......... .......... .......... .......... 91% 9,02M 1s\n",
      " 12250K .......... .......... .......... .......... .......... 91% 12,4M 1s\n",
      " 12300K .......... .......... .......... .......... .......... 91% 10,9M 1s\n",
      " 12350K .......... .......... .......... .......... .......... 92% 7,56M 1s\n",
      " 12400K .......... .......... .......... .......... .......... 92% 1,16M 1s\n",
      " 12450K .......... .......... .......... .......... .......... 92% 4,52M 1s\n",
      " 12500K .......... .......... .......... .......... .......... 93% 3,63M 1s\n",
      " 12550K .......... .......... .......... .......... .......... 93% 7,06M 0s\n",
      " 12600K .......... .......... .......... .......... .......... 94% 5,74M 0s\n",
      " 12650K .......... .......... .......... .......... .......... 94% 8,65M 0s\n",
      " 12700K .......... .......... .......... .......... .......... 94% 12,7M 0s\n",
      " 12750K .......... .......... .......... .......... .......... 95% 7,10M 0s\n",
      " 12800K .......... .......... .......... .......... .......... 95% 4,59M 0s\n",
      " 12850K .......... .......... .......... .......... .......... 95% 9,81M 0s\n",
      " 12900K .......... .......... .......... .......... .......... 96% 6,75M 0s\n",
      " 12950K .......... .......... .......... .......... .......... 96% 10,2M 0s\n",
      " 13000K .......... .......... .......... .......... .......... 97% 12,2M 0s\n",
      " 13050K .......... .......... .......... .......... .......... 97% 11,9M 0s\n",
      " 13100K .......... .......... .......... .......... .......... 97% 1,26M 0s\n",
      " 13150K .......... .......... .......... .......... .......... 98% 2,17M 0s\n",
      " 13200K .......... .......... .......... .......... .......... 98% 15,4M 0s\n",
      " 13250K .......... .......... .......... .......... .......... 98% 6,87M 0s\n",
      " 13300K .......... .......... .......... .......... .......... 99% 4,85M 0s\n",
      " 13350K .......... .......... .......... .......... .......... 99% 4,41M 0s\n",
      " 13400K .......... .......... .......... .......... .......   100% 14,3M=7,2s\n",
      "\n",
      "2022-08-02 13:33:45 (1,81 MB/s) - 'ngrok-stable-linux-amd64.tgz.1' saved [13770165/13770165]\n",
      "\n",
      "tar: Error opening archive: Failed to open '/content/ngrok-stable-linux-amd64.tgz'\n",
      "\".\" не является внутренней или внешней\n",
      "командой, исполняемой программой или пакетным файлом.\n",
      "\".\" не является внутренней или внешней\n",
      "командой, исполняемой программой или пакетным файлом.\n"
     ]
    }
   ],
   "source": [
    "!wget https://bin.equinox.io/c/4VmDzA7iaHb/ngrok-stable-linux-amd64.tgz\n",
    "!tar -xvf /content/ngrok-stable-linux-amd64.tgz\n",
    "!./ngrok authtoken 2AQwxtl9lZmWOYwwGv3dptsb2GJ_21ZJCVJ59W9RjFNtN2CJ6\n",
    "!./ngrok http 80"
   ]
  },
  {
   "cell_type": "markdown",
   "id": "4d2ecf45",
   "metadata": {},
   "source": [
    "#### Создаем сервис для обработки запросов к модели"
   ]
  },
  {
   "cell_type": "code",
   "execution_count": 25,
   "id": "d58aa708",
   "metadata": {},
   "outputs": [],
   "source": [
    "# Загружаем обученные модели\n",
    "with open('rf_pipeline.dill', 'rb') as in_strm:\n",
    "    model = dill.load(in_strm)"
   ]
  },
  {
   "cell_type": "code",
   "execution_count": 26,
   "id": "5ec21b97",
   "metadata": {},
   "outputs": [],
   "source": [
    "X_test = pd.read_csv(\"X_test.csv\")\n",
    "y_test = pd.read_csv(\"y_test.csv\")"
   ]
  },
  {
   "cell_type": "code",
   "execution_count": 38,
   "id": "3ebae451",
   "metadata": {},
   "outputs": [
    {
     "name": "stdout",
     "output_type": "stream",
     "text": [
      " * Serving Flask app \"__main__\" (lazy loading)\n",
      " * Environment: production\n",
      "   WARNING: This is a development server. Do not use it in a production deployment.\n",
      "   Use a production WSGI server instead.\n",
      " * Debug mode: off\n"
     ]
    },
    {
     "name": "stderr",
     "output_type": "stream",
     "text": [
      " * Running on http://127.0.0.1:5000/ (Press CTRL+C to quit)\n"
     ]
    },
    {
     "name": "stdout",
     "output_type": "stream",
     "text": [
      " * Running on http://d568-90-154-73-196.ngrok.io\n",
      " * Traffic stats available on http://127.0.0.1:4040\n"
     ]
    },
    {
     "name": "stderr",
     "output_type": "stream",
     "text": [
      "127.0.0.1 - - [02/Aug/2022 14:03:56] \"\u001b[37mPOST /predict HTTP/1.1\u001b[0m\" 200 -\n"
     ]
    },
    {
     "name": "stdout",
     "output_type": "stream",
     "text": [
      "OK\n"
     ]
    },
    {
     "name": "stderr",
     "output_type": "stream",
     "text": [
      "127.0.0.1 - - [02/Aug/2022 14:03:57] \"\u001b[37mPOST /predict HTTP/1.1\u001b[0m\" 200 -\n"
     ]
    },
    {
     "name": "stdout",
     "output_type": "stream",
     "text": [
      "OK\n"
     ]
    },
    {
     "name": "stderr",
     "output_type": "stream",
     "text": [
      "127.0.0.1 - - [02/Aug/2022 14:03:57] \"\u001b[37mPOST /predict HTTP/1.1\u001b[0m\" 200 -\n"
     ]
    },
    {
     "name": "stdout",
     "output_type": "stream",
     "text": [
      "OK\n"
     ]
    },
    {
     "name": "stderr",
     "output_type": "stream",
     "text": [
      "127.0.0.1 - - [02/Aug/2022 14:03:58] \"\u001b[37mPOST /predict HTTP/1.1\u001b[0m\" 200 -\n"
     ]
    },
    {
     "name": "stdout",
     "output_type": "stream",
     "text": [
      "OK\n"
     ]
    },
    {
     "name": "stderr",
     "output_type": "stream",
     "text": [
      "127.0.0.1 - - [02/Aug/2022 14:03:59] \"\u001b[37mPOST /predict HTTP/1.1\u001b[0m\" 200 -\n"
     ]
    },
    {
     "name": "stdout",
     "output_type": "stream",
     "text": [
      "OK\n"
     ]
    },
    {
     "name": "stderr",
     "output_type": "stream",
     "text": [
      "127.0.0.1 - - [02/Aug/2022 14:04:00] \"\u001b[37mPOST /predict HTTP/1.1\u001b[0m\" 200 -\n"
     ]
    },
    {
     "name": "stdout",
     "output_type": "stream",
     "text": [
      "OK\n"
     ]
    },
    {
     "name": "stderr",
     "output_type": "stream",
     "text": [
      "127.0.0.1 - - [02/Aug/2022 14:04:01] \"\u001b[37mPOST /predict HTTP/1.1\u001b[0m\" 200 -\n"
     ]
    },
    {
     "name": "stdout",
     "output_type": "stream",
     "text": [
      "OK\n"
     ]
    },
    {
     "name": "stderr",
     "output_type": "stream",
     "text": [
      "127.0.0.1 - - [02/Aug/2022 14:04:02] \"\u001b[37mPOST /predict HTTP/1.1\u001b[0m\" 200 -\n"
     ]
    },
    {
     "name": "stdout",
     "output_type": "stream",
     "text": [
      "OK\n"
     ]
    },
    {
     "name": "stderr",
     "output_type": "stream",
     "text": [
      "127.0.0.1 - - [02/Aug/2022 14:04:03] \"\u001b[37mPOST /predict HTTP/1.1\u001b[0m\" 200 -\n"
     ]
    },
    {
     "name": "stdout",
     "output_type": "stream",
     "text": [
      "OK\n"
     ]
    },
    {
     "name": "stderr",
     "output_type": "stream",
     "text": [
      "127.0.0.1 - - [02/Aug/2022 14:04:04] \"\u001b[37mPOST /predict HTTP/1.1\u001b[0m\" 200 -\n"
     ]
    },
    {
     "name": "stdout",
     "output_type": "stream",
     "text": [
      "OK\n"
     ]
    },
    {
     "name": "stderr",
     "output_type": "stream",
     "text": [
      "127.0.0.1 - - [02/Aug/2022 14:04:05] \"\u001b[37mPOST /predict HTTP/1.1\u001b[0m\" 200 -\n"
     ]
    },
    {
     "name": "stdout",
     "output_type": "stream",
     "text": [
      "OK\n"
     ]
    },
    {
     "name": "stderr",
     "output_type": "stream",
     "text": [
      "127.0.0.1 - - [02/Aug/2022 14:04:05] \"\u001b[37mPOST /predict HTTP/1.1\u001b[0m\" 200 -\n"
     ]
    },
    {
     "name": "stdout",
     "output_type": "stream",
     "text": [
      "OK\n"
     ]
    },
    {
     "name": "stderr",
     "output_type": "stream",
     "text": [
      "127.0.0.1 - - [02/Aug/2022 14:04:06] \"\u001b[37mPOST /predict HTTP/1.1\u001b[0m\" 200 -\n"
     ]
    },
    {
     "name": "stdout",
     "output_type": "stream",
     "text": [
      "OK\n"
     ]
    },
    {
     "name": "stderr",
     "output_type": "stream",
     "text": [
      "127.0.0.1 - - [02/Aug/2022 14:04:07] \"\u001b[37mPOST /predict HTTP/1.1\u001b[0m\" 200 -\n"
     ]
    },
    {
     "name": "stdout",
     "output_type": "stream",
     "text": [
      "OK\n"
     ]
    },
    {
     "name": "stderr",
     "output_type": "stream",
     "text": [
      "127.0.0.1 - - [02/Aug/2022 14:04:08] \"\u001b[37mPOST /predict HTTP/1.1\u001b[0m\" 200 -\n"
     ]
    },
    {
     "name": "stdout",
     "output_type": "stream",
     "text": [
      "OK\n"
     ]
    },
    {
     "name": "stderr",
     "output_type": "stream",
     "text": [
      "127.0.0.1 - - [02/Aug/2022 14:04:09] \"\u001b[37mPOST /predict HTTP/1.1\u001b[0m\" 200 -\n"
     ]
    },
    {
     "name": "stdout",
     "output_type": "stream",
     "text": [
      "OK\n"
     ]
    },
    {
     "name": "stderr",
     "output_type": "stream",
     "text": [
      "127.0.0.1 - - [02/Aug/2022 14:04:10] \"\u001b[37mPOST /predict HTTP/1.1\u001b[0m\" 200 -\n"
     ]
    },
    {
     "name": "stdout",
     "output_type": "stream",
     "text": [
      "OK\n"
     ]
    },
    {
     "name": "stderr",
     "output_type": "stream",
     "text": [
      "127.0.0.1 - - [02/Aug/2022 14:04:11] \"\u001b[37mPOST /predict HTTP/1.1\u001b[0m\" 200 -\n"
     ]
    },
    {
     "name": "stdout",
     "output_type": "stream",
     "text": [
      "OK\n"
     ]
    },
    {
     "name": "stderr",
     "output_type": "stream",
     "text": [
      "127.0.0.1 - - [02/Aug/2022 14:04:12] \"\u001b[37mPOST /predict HTTP/1.1\u001b[0m\" 200 -\n"
     ]
    },
    {
     "name": "stdout",
     "output_type": "stream",
     "text": [
      "OK\n"
     ]
    },
    {
     "name": "stderr",
     "output_type": "stream",
     "text": [
      "127.0.0.1 - - [02/Aug/2022 14:04:13] \"\u001b[37mPOST /predict HTTP/1.1\u001b[0m\" 200 -\n"
     ]
    },
    {
     "name": "stdout",
     "output_type": "stream",
     "text": [
      "OK\n"
     ]
    },
    {
     "name": "stderr",
     "output_type": "stream",
     "text": [
      "127.0.0.1 - - [02/Aug/2022 14:04:14] \"\u001b[37mPOST /predict HTTP/1.1\u001b[0m\" 200 -\n"
     ]
    },
    {
     "name": "stdout",
     "output_type": "stream",
     "text": [
      "OK\n"
     ]
    },
    {
     "name": "stderr",
     "output_type": "stream",
     "text": [
      "127.0.0.1 - - [02/Aug/2022 14:04:15] \"\u001b[37mPOST /predict HTTP/1.1\u001b[0m\" 200 -\n"
     ]
    },
    {
     "name": "stdout",
     "output_type": "stream",
     "text": [
      "OK\n"
     ]
    },
    {
     "name": "stderr",
     "output_type": "stream",
     "text": [
      "127.0.0.1 - - [02/Aug/2022 14:04:16] \"\u001b[37mPOST /predict HTTP/1.1\u001b[0m\" 200 -\n"
     ]
    },
    {
     "name": "stdout",
     "output_type": "stream",
     "text": [
      "OK\n"
     ]
    },
    {
     "name": "stderr",
     "output_type": "stream",
     "text": [
      "127.0.0.1 - - [02/Aug/2022 14:04:17] \"\u001b[37mPOST /predict HTTP/1.1\u001b[0m\" 200 -\n"
     ]
    },
    {
     "name": "stdout",
     "output_type": "stream",
     "text": [
      "OK\n"
     ]
    },
    {
     "name": "stderr",
     "output_type": "stream",
     "text": [
      "127.0.0.1 - - [02/Aug/2022 14:04:18] \"\u001b[37mPOST /predict HTTP/1.1\u001b[0m\" 200 -\n"
     ]
    },
    {
     "name": "stdout",
     "output_type": "stream",
     "text": [
      "OK\n"
     ]
    },
    {
     "name": "stderr",
     "output_type": "stream",
     "text": [
      "127.0.0.1 - - [02/Aug/2022 14:04:18] \"\u001b[37mPOST /predict HTTP/1.1\u001b[0m\" 200 -\n"
     ]
    },
    {
     "name": "stdout",
     "output_type": "stream",
     "text": [
      "OK\n"
     ]
    },
    {
     "name": "stderr",
     "output_type": "stream",
     "text": [
      "127.0.0.1 - - [02/Aug/2022 14:04:19] \"\u001b[37mPOST /predict HTTP/1.1\u001b[0m\" 200 -\n"
     ]
    },
    {
     "name": "stdout",
     "output_type": "stream",
     "text": [
      "OK\n"
     ]
    },
    {
     "name": "stderr",
     "output_type": "stream",
     "text": [
      "127.0.0.1 - - [02/Aug/2022 14:04:20] \"\u001b[37mPOST /predict HTTP/1.1\u001b[0m\" 200 -\n"
     ]
    },
    {
     "name": "stdout",
     "output_type": "stream",
     "text": [
      "OK\n"
     ]
    },
    {
     "name": "stderr",
     "output_type": "stream",
     "text": [
      "127.0.0.1 - - [02/Aug/2022 14:04:21] \"\u001b[37mPOST /predict HTTP/1.1\u001b[0m\" 200 -\n"
     ]
    },
    {
     "name": "stdout",
     "output_type": "stream",
     "text": [
      "OK\n"
     ]
    },
    {
     "name": "stderr",
     "output_type": "stream",
     "text": [
      "127.0.0.1 - - [02/Aug/2022 14:04:22] \"\u001b[37mPOST /predict HTTP/1.1\u001b[0m\" 200 -\n"
     ]
    },
    {
     "name": "stdout",
     "output_type": "stream",
     "text": [
      "OK\n"
     ]
    },
    {
     "name": "stderr",
     "output_type": "stream",
     "text": [
      "127.0.0.1 - - [02/Aug/2022 14:04:23] \"\u001b[37mPOST /predict HTTP/1.1\u001b[0m\" 200 -\n"
     ]
    },
    {
     "name": "stdout",
     "output_type": "stream",
     "text": [
      "OK\n"
     ]
    },
    {
     "name": "stderr",
     "output_type": "stream",
     "text": [
      "127.0.0.1 - - [02/Aug/2022 14:04:24] \"\u001b[37mPOST /predict HTTP/1.1\u001b[0m\" 200 -\n"
     ]
    },
    {
     "name": "stdout",
     "output_type": "stream",
     "text": [
      "OK\n"
     ]
    },
    {
     "name": "stderr",
     "output_type": "stream",
     "text": [
      "127.0.0.1 - - [02/Aug/2022 14:04:25] \"\u001b[37mPOST /predict HTTP/1.1\u001b[0m\" 200 -\n"
     ]
    },
    {
     "name": "stdout",
     "output_type": "stream",
     "text": [
      "OK\n"
     ]
    },
    {
     "name": "stderr",
     "output_type": "stream",
     "text": [
      "127.0.0.1 - - [02/Aug/2022 14:04:26] \"\u001b[37mGET / HTTP/1.1\u001b[0m\" 200 -\n",
      "127.0.0.1 - - [02/Aug/2022 14:04:26] \"\u001b[37mPOST /predict HTTP/1.1\u001b[0m\" 200 -\n"
     ]
    },
    {
     "name": "stdout",
     "output_type": "stream",
     "text": [
      "OK\n"
     ]
    },
    {
     "name": "stderr",
     "output_type": "stream",
     "text": [
      "127.0.0.1 - - [02/Aug/2022 14:04:27] \"\u001b[37mPOST /predict HTTP/1.1\u001b[0m\" 200 -\n"
     ]
    },
    {
     "name": "stdout",
     "output_type": "stream",
     "text": [
      "OK\n"
     ]
    },
    {
     "name": "stderr",
     "output_type": "stream",
     "text": [
      "127.0.0.1 - - [02/Aug/2022 14:04:28] \"\u001b[37mPOST /predict HTTP/1.1\u001b[0m\" 200 -\n"
     ]
    },
    {
     "name": "stdout",
     "output_type": "stream",
     "text": [
      "OK\n"
     ]
    },
    {
     "name": "stderr",
     "output_type": "stream",
     "text": [
      "127.0.0.1 - - [02/Aug/2022 14:04:29] \"\u001b[37mPOST /predict HTTP/1.1\u001b[0m\" 200 -\n"
     ]
    },
    {
     "name": "stdout",
     "output_type": "stream",
     "text": [
      "OK\n"
     ]
    },
    {
     "name": "stderr",
     "output_type": "stream",
     "text": [
      "127.0.0.1 - - [02/Aug/2022 14:04:30] \"\u001b[37mPOST /predict HTTP/1.1\u001b[0m\" 200 -\n"
     ]
    },
    {
     "name": "stdout",
     "output_type": "stream",
     "text": [
      "OK\n"
     ]
    },
    {
     "name": "stderr",
     "output_type": "stream",
     "text": [
      "127.0.0.1 - - [02/Aug/2022 14:04:31] \"\u001b[37mPOST /predict HTTP/1.1\u001b[0m\" 200 -\n"
     ]
    },
    {
     "name": "stdout",
     "output_type": "stream",
     "text": [
      "OK\n"
     ]
    },
    {
     "name": "stderr",
     "output_type": "stream",
     "text": [
      "127.0.0.1 - - [02/Aug/2022 14:04:32] \"\u001b[37mPOST /predict HTTP/1.1\u001b[0m\" 200 -\n"
     ]
    },
    {
     "name": "stdout",
     "output_type": "stream",
     "text": [
      "OK\n"
     ]
    },
    {
     "name": "stderr",
     "output_type": "stream",
     "text": [
      "127.0.0.1 - - [02/Aug/2022 14:04:33] \"\u001b[37mPOST /predict HTTP/1.1\u001b[0m\" 200 -\n"
     ]
    },
    {
     "name": "stdout",
     "output_type": "stream",
     "text": [
      "OK\n"
     ]
    },
    {
     "name": "stderr",
     "output_type": "stream",
     "text": [
      "127.0.0.1 - - [02/Aug/2022 14:04:34] \"\u001b[37mPOST /predict HTTP/1.1\u001b[0m\" 200 -\n"
     ]
    },
    {
     "name": "stdout",
     "output_type": "stream",
     "text": [
      "OK\n"
     ]
    },
    {
     "name": "stderr",
     "output_type": "stream",
     "text": [
      "127.0.0.1 - - [02/Aug/2022 14:04:35] \"\u001b[37mPOST /predict HTTP/1.1\u001b[0m\" 200 -\n"
     ]
    },
    {
     "name": "stdout",
     "output_type": "stream",
     "text": [
      "OK\n"
     ]
    },
    {
     "name": "stderr",
     "output_type": "stream",
     "text": [
      "127.0.0.1 - - [02/Aug/2022 14:04:35] \"\u001b[37mPOST /predict HTTP/1.1\u001b[0m\" 200 -\n"
     ]
    },
    {
     "name": "stdout",
     "output_type": "stream",
     "text": [
      "OK\n"
     ]
    },
    {
     "name": "stderr",
     "output_type": "stream",
     "text": [
      "127.0.0.1 - - [02/Aug/2022 14:04:36] \"\u001b[37mPOST /predict HTTP/1.1\u001b[0m\" 200 -\n"
     ]
    },
    {
     "name": "stdout",
     "output_type": "stream",
     "text": [
      "OK\n"
     ]
    },
    {
     "name": "stderr",
     "output_type": "stream",
     "text": [
      "127.0.0.1 - - [02/Aug/2022 14:04:37] \"\u001b[37mPOST /predict HTTP/1.1\u001b[0m\" 200 -\n"
     ]
    },
    {
     "name": "stdout",
     "output_type": "stream",
     "text": [
      "OK\n"
     ]
    },
    {
     "name": "stderr",
     "output_type": "stream",
     "text": [
      "127.0.0.1 - - [02/Aug/2022 14:04:38] \"\u001b[37mPOST /predict HTTP/1.1\u001b[0m\" 200 -\n"
     ]
    },
    {
     "name": "stdout",
     "output_type": "stream",
     "text": [
      "OK\n"
     ]
    },
    {
     "name": "stderr",
     "output_type": "stream",
     "text": [
      "127.0.0.1 - - [02/Aug/2022 14:04:39] \"\u001b[37mPOST /predict HTTP/1.1\u001b[0m\" 200 -\n"
     ]
    },
    {
     "name": "stdout",
     "output_type": "stream",
     "text": [
      "OK\n"
     ]
    },
    {
     "name": "stderr",
     "output_type": "stream",
     "text": [
      "127.0.0.1 - - [02/Aug/2022 14:04:40] \"\u001b[37mPOST /predict HTTP/1.1\u001b[0m\" 200 -\n"
     ]
    },
    {
     "name": "stdout",
     "output_type": "stream",
     "text": [
      "OK\n"
     ]
    },
    {
     "name": "stderr",
     "output_type": "stream",
     "text": [
      "127.0.0.1 - - [02/Aug/2022 14:04:41] \"\u001b[37mPOST /predict HTTP/1.1\u001b[0m\" 200 -\n"
     ]
    },
    {
     "name": "stdout",
     "output_type": "stream",
     "text": [
      "OK\n"
     ]
    },
    {
     "name": "stderr",
     "output_type": "stream",
     "text": [
      "127.0.0.1 - - [02/Aug/2022 14:04:50] \"\u001b[33mGET /robots.txt HTTP/1.1\u001b[0m\" 404 -\n"
     ]
    }
   ],
   "source": [
    "# Обработчики и запуск Flask\n",
    "app = Flask(__name__)\n",
    "run_with_ngrok(app)  # Start ngrok when app is run\n",
    "\n",
    "\n",
    "@app.route(\"/\", methods=[\"GET\"])\n",
    "def general():\n",
    "    return \"Welcome to prediction process\"\n",
    "\n",
    "@app.route('/predict', methods=['POST'])\n",
    "def predict():\n",
    "    data = {\"success\": False}\n",
    "\n",
    "    (home_ownership, annual_income, years_job, tax_liens, accounts, years_history, max_credit, n_problems, last_delinquent, bankruptcies, purpose, \n",
    "    term, current_loan_amount, current_credit_balance, monthly_debt, credit_score) = [np.nan]*16\n",
    "\n",
    "    request_json = request.get_json()\n",
    "    \n",
    "    if request_json[\"Home Ownership\"]:\n",
    "        home_ownership = request_json['Home Ownership']\n",
    "    \n",
    "    if request_json[\"Annual Income\"]:\n",
    "        annual_income = request_json['Annual Income']\n",
    "                \n",
    "    if request_json[\"Years in current job\"]:\n",
    "        years_job = request_json['Years in current job']\n",
    "\n",
    "    if request_json[\"Tax Liens\"]:\n",
    "        tax_liens = request_json['Tax Liens']\n",
    "    \n",
    "    if request_json[\"Number of Open Accounts\"]:\n",
    "        accounts = request_json['Number of Open Accounts']\n",
    "                \n",
    "    if request_json[\"Years of Credit History\"]:\n",
    "        years_history = request_json['Years of Credit History']\n",
    "\n",
    "    if request_json[\"Maximum Open Credit\"]:\n",
    "        max_credit = request_json['Maximum Open Credit']\n",
    "    \n",
    "    if request_json[\"Number of Credit Problems\"]:\n",
    "        n_problems = request_json['Number of Credit Problems']\n",
    "                \n",
    "    if request_json[\"Months since last delinquent\"]:\n",
    "        last_delinquent = request_json['Months since last delinquent']\n",
    "\n",
    "    if request_json[\"Bankruptcies\"]:\n",
    "        bankruptcies = request_json['Bankruptcies']\n",
    "    \n",
    "    if request_json[\"Purpose\"]:\n",
    "        purpose = request_json['Purpose']\n",
    "                \n",
    "    if request_json[\"Term\"]:\n",
    "        term = request_json['Term']\n",
    "\n",
    "    if request_json[\"Current Loan Amount\"]:\n",
    "        current_loan_amount = request_json['Current Loan Amount']\n",
    "    \n",
    "    if request_json[\"Current Credit Balance\"]:\n",
    "        current_credit_balance = request_json['Current Credit Balance']\n",
    "                \n",
    "    if request_json[\"Monthly Debt\"]:\n",
    "        monthly_debt = request_json['Monthly Debt']\n",
    "\n",
    "    if request_json[\"Credit Score\"]:\n",
    "        credit_score = request_json['Credit Score']\n",
    "\n",
    "    \n",
    "     \n",
    "    preds = model.predict_proba(pd.DataFrame({'Home Ownership' : [home_ownership],\n",
    "                                              'Annual Income' : [annual_income],\n",
    "                                              'Years in current job' : [years_job],\n",
    "                                              'Tax Liens' : [tax_liens],\n",
    "                                              'Number of Open Accounts' : [accounts],\n",
    "                                              'Years of Credit History' : [years_history],\n",
    "                                              'Maximum Open Credit' : [max_credit],\n",
    "                                              'Number of Credit Problems' : [n_problems],\n",
    "                                              'Months since last delinquent' : [last_delinquent],\n",
    "                                              'Bankruptcies' : [bankruptcies],\n",
    "                                              'Purpose' : [purpose],\n",
    "                                              'Term' : [term],\n",
    "                                              'Current Loan Amount' : [current_loan_amount] ,\n",
    "                                              'Current Credit Balance' : [current_credit_balance],\n",
    "                                              'Monthly Debt' : [monthly_debt],\n",
    "                                              'Credit Score' : [credit_score]}))\n",
    "      \n",
    "   \n",
    "    data[\"predictions\"] = preds[:, 1][0]\n",
    "    data[\"description\"] = request_json\n",
    "\n",
    "    data[\"success\"] = True\n",
    "    print('OK')\n",
    "\n",
    "\n",
    "    return jsonify(data)\n",
    "\n",
    "\n",
    "if __name__ == '__main__':\n",
    "    app.run()"
   ]
  },
  {
   "cell_type": "code",
   "execution_count": 34,
   "id": "52e7dad5",
   "metadata": {},
   "outputs": [],
   "source": [
    "# Пример данных\n",
    "(home_ownership, annual_income, years_job, tax_liens, accounts, years_history, max_credit, n_problems, last_delinquent, bankruptcies, purpose, \n",
    "term, current_loan_amount, current_credit_balance, monthly_debt, credit_score) = ('Rent', 616892.0, '10+ years', 0.0, 6.0, 19.9, 415250.0, 0.0, 47.0, 0.0, 'debt consolidation', 'Short Term', 273042.0, 222338.0, 6323.0, 716.0)\n",
    "\n",
    "body = {'Home Ownership' : home_ownership,\n",
    "    'Annual Income' : annual_income,\n",
    "    'Years in current job' : years_job,\n",
    "    'Tax Liens' : tax_liens,\n",
    "    'Number of Open Accounts' : accounts,\n",
    "    'Years of Credit History' : years_history,\n",
    "    'Maximum Open Credit' : max_credit,\n",
    "    'Number of Credit Problems' : n_problems,\n",
    "    'Months since last delinquent' : last_delinquent,\n",
    "    'Bankruptcies' : bankruptcies,\n",
    "    'Purpose' : purpose,\n",
    "    'Term' : term,\n",
    "    'Current Loan Amount' : current_loan_amount ,\n",
    "    'Current Credit Balance' : current_credit_balance,\n",
    "    'Monthly Debt' : monthly_debt,\n",
    "    'Credit Score' : credit_score}"
   ]
  },
  {
   "cell_type": "code",
   "execution_count": 29,
   "id": "705b4747",
   "metadata": {},
   "outputs": [
    {
     "name": "stdout",
     "output_type": "stream",
     "text": [
      "OK\n"
     ]
    },
    {
     "data": {
      "text/plain": [
       "{'description': {'Annual Income': 616892.0,\n",
       "  'Bankruptcies': 0.0,\n",
       "  'Credit Score': 716.0,\n",
       "  'Current Credit Balance': 222338.0,\n",
       "  'Current Loan Amount': 273042.0,\n",
       "  'Home Ownership': 'Rent',\n",
       "  'Maximum Open Credit': 415250.0,\n",
       "  'Monthly Debt': 6323.0,\n",
       "  'Months since last delinquent': 47.0,\n",
       "  'Number of Credit Problems': 0.0,\n",
       "  'Number of Open Accounts': 6.0,\n",
       "  'Purpose': 'debt consolidation',\n",
       "  'Tax Liens': 0.0,\n",
       "  'Term': 'Short Term',\n",
       "  'Years in current job': '10+ years',\n",
       "  'Years of Credit History': 19.9},\n",
       " 'predictions': 0.5291638068860315,\n",
       " 'success': True}"
      ]
     },
     "execution_count": 29,
     "metadata": {},
     "output_type": "execute_result"
    }
   ],
   "source": [
    "with app.test_client() as t:\n",
    "    response = t.post('/predict', json=body)\n",
    "    json_data = response.get_json()\n",
    "\n",
    "json_data"
   ]
  },
  {
   "cell_type": "code",
   "execution_count": null,
   "id": "3f6ae3a4",
   "metadata": {},
   "outputs": [],
   "source": []
  }
 ],
 "metadata": {
  "kernelspec": {
   "display_name": "Python 3",
   "language": "python",
   "name": "python3"
  },
  "language_info": {
   "codemirror_mode": {
    "name": "ipython",
    "version": 3
   },
   "file_extension": ".py",
   "mimetype": "text/x-python",
   "name": "python",
   "nbconvert_exporter": "python",
   "pygments_lexer": "ipython3",
   "version": "3.8.8"
  }
 },
 "nbformat": 4,
 "nbformat_minor": 5
}
