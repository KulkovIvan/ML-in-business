{
 "cells": [
  {
   "cell_type": "markdown",
   "id": "db3f6b88",
   "metadata": {},
   "source": [
    "#### Домашнее задание\n",
    "Взять датасет из google диска: https://drive.google.com/file/d/1MpWBFIbqu4mbiD0BBKYX6YhS-f4mN3Z_. Проверить гипотезу о том, в каком варианте теста (control/personalization) больше конверсия (converted) и значимо ли это отличие статистически."
   ]
  },
  {
   "cell_type": "code",
   "execution_count": 1,
   "id": "d2a2c57f",
   "metadata": {},
   "outputs": [],
   "source": [
    "import pandas as pd\n",
    "import numpy as np\n",
    "from statsmodels.stats import proportion"
   ]
  },
  {
   "cell_type": "code",
   "execution_count": 2,
   "id": "182a232a",
   "metadata": {},
   "outputs": [
    {
     "name": "stdout",
     "output_type": "stream",
     "text": [
      "<class 'pandas.core.frame.DataFrame'>\n",
      "RangeIndex: 10037 entries, 0 to 10036\n",
      "Data columns (total 6 columns):\n",
      " #   Column              Non-Null Count  Dtype \n",
      "---  ------              --------------  ----- \n",
      " 0   user_id             10037 non-null  object\n",
      " 1   date_served         10021 non-null  object\n",
      " 2   marketing_channel   10022 non-null  object\n",
      " 3   variant             10037 non-null  object\n",
      " 4   language_displayed  10037 non-null  object\n",
      " 5   converted           10022 non-null  object\n",
      "dtypes: object(6)\n",
      "memory usage: 470.6+ KB\n"
     ]
    }
   ],
   "source": [
    "marketing_campaign = pd.read_csv('marketing_campaign.csv')\n",
    "marketing_campaign.info()"
   ]
  },
  {
   "cell_type": "code",
   "execution_count": 3,
   "id": "9f7e6874",
   "metadata": {},
   "outputs": [],
   "source": [
    "marketing_campaign.dropna(inplace=True)"
   ]
  },
  {
   "cell_type": "code",
   "execution_count": 4,
   "id": "da12d4e2",
   "metadata": {},
   "outputs": [],
   "source": [
    "marketing_campaign = marketing_campaign.astype({'converted': 'int32'})"
   ]
  },
  {
   "cell_type": "markdown",
   "id": "60b06f87",
   "metadata": {},
   "source": [
    "### Конверсии "
   ]
  },
  {
   "cell_type": "code",
   "execution_count": 12,
   "id": "a06cdaf7",
   "metadata": {},
   "outputs": [
    {
     "name": "stdout",
     "output_type": "stream",
     "text": [
      "конверсия в \"personalization\" = 0.14256825075834176\n"
     ]
    }
   ],
   "source": [
    "conv_person = marketing_campaign.loc[marketing_campaign['variant'] == 'personalization', 'converted'].mean()\n",
    "print(f'конверсия в \"personalization\" = {conv_person}')"
   ]
  },
  {
   "cell_type": "code",
   "execution_count": 14,
   "id": "b8eacf59",
   "metadata": {},
   "outputs": [
    {
     "name": "stdout",
     "output_type": "stream",
     "text": [
      "конверсия в \"control\" = 0.0730890464933018\n"
     ]
    }
   ],
   "source": [
    "conv_control = marketing_campaign.loc[marketing_campaign['variant'] == 'control', 'converted'].mean()\n",
    "print(f'конверсия в \"control\" = {conv_control}')"
   ]
  },
  {
   "cell_type": "markdown",
   "id": "26e5b161",
   "metadata": {},
   "source": [
    "### Cтаттест"
   ]
  },
  {
   "cell_type": "code",
   "execution_count": 15,
   "id": "5ce5a204",
   "metadata": {},
   "outputs": [],
   "source": [
    "k1 = marketing_campaign[marketing_campaign['variant']=='control']['converted'].sum()\n",
    "n1 = marketing_campaign[marketing_campaign['variant']=='control'].shape[0]\n",
    "k2 = marketing_campaign[marketing_campaign['variant']=='personalization']['converted'].sum()\n",
    "n2 = marketing_campaign[marketing_campaign['variant']=='personalization'].shape[0]"
   ]
  },
  {
   "cell_type": "code",
   "execution_count": 19,
   "id": "414d6de3",
   "metadata": {},
   "outputs": [
    {
     "name": "stdout",
     "output_type": "stream",
     "text": [
      "Results are z_score=-11.232 pvalue=0.000\n"
     ]
    }
   ],
   "source": [
    "z_score, z_pvalue = proportion.proportions_ztest(np.array([k1, k2]), \n",
    "                                                 np.array([n1, n2]))\n",
    "\n",
    "print(f'Results are z_score={z_score:.3f} pvalue={z_pvalue:.3f}')"
   ]
  },
  {
   "cell_type": "markdown",
   "id": "f7fed426",
   "metadata": {},
   "source": [
    "- pvalue < 5% - Из чего следует, что разница значима."
   ]
  },
  {
   "cell_type": "markdown",
   "id": "7b2259d9",
   "metadata": {},
   "source": [
    "Хи-Квадрат Пирсона"
   ]
  },
  {
   "cell_type": "code",
   "execution_count": 18,
   "id": "7634cee3",
   "metadata": {},
   "outputs": [
    {
     "name": "stdout",
     "output_type": "stream",
     "text": [
      "Results are chisq=126.158 pvalue=0.000\n"
     ]
    }
   ],
   "source": [
    "chisq, pvalue, table = proportion.proportions_chisquare(np.array([k1, k2]), \n",
    "                                                        np.array([n1, n2]))\n",
    "\n",
    "print(f'Results are chisq={chisq:.3f} pvalue={pvalue:.3f}')"
   ]
  },
  {
   "cell_type": "markdown",
   "id": "e183ef91",
   "metadata": {},
   "source": [
    "- pvalue < 5% - Из чего следует, что разница значима."
   ]
  },
  {
   "cell_type": "code",
   "execution_count": null,
   "id": "a9c5c424",
   "metadata": {},
   "outputs": [],
   "source": []
  }
 ],
 "metadata": {
  "kernelspec": {
   "display_name": "Python 3",
   "language": "python",
   "name": "python3"
  },
  "language_info": {
   "codemirror_mode": {
    "name": "ipython",
    "version": 3
   },
   "file_extension": ".py",
   "mimetype": "text/x-python",
   "name": "python",
   "nbconvert_exporter": "python",
   "pygments_lexer": "ipython3",
   "version": "3.8.8"
  }
 },
 "nbformat": 4,
 "nbformat_minor": 5
}
