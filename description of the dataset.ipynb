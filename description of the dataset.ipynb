{
 "cells": [
  {
   "cell_type": "markdown",
   "id": "7a6bda2a",
   "metadata": {},
   "source": [
    "### Описание датасета\n",
    "Данные по кредитному скорингу.\n",
    "\n",
    "Home Ownership - домовладение\n",
    "\n",
    "Annual Income - годовой доход\n",
    "\n",
    "Years in current job - количество лет на текущем месте работы\n",
    "\n",
    "Tax Liens - налоговые обременения\n",
    "\n",
    "Number of Open Accounts - количество открытых счетов\n",
    "\n",
    "Years of Credit History - количество лет кредитной истории\n",
    "\n",
    "Maximum Open Credit - наибольший открытый кредит\n",
    "\n",
    "Number of Credit Problems - количество проблем с кредитом\n",
    "\n",
    "Months since last delinquent - количество месяцев с последней просрочки платежа\n",
    "\n",
    "Bankruptcies - банкротства\n",
    "\n",
    "Purpose - цель кредита\n",
    "\n",
    "Term - срок кредита\n",
    "\n",
    "Current Loan Amount - текущая сумма кредита\n",
    "\n",
    "Current Credit Balance - текущий кредитный баланс\n",
    "\n",
    "Monthly Debt - ежемесячный долг\n",
    "\n",
    "Credit Default - факт невыполнения кредитных обязательств (0 - погашен вовремя, 1 - просрочка)"
   ]
  },
  {
   "cell_type": "code",
   "execution_count": null,
   "id": "37d71901",
   "metadata": {},
   "outputs": [],
   "source": []
  }
 ],
 "metadata": {
  "kernelspec": {
   "display_name": "Python 3",
   "language": "python",
   "name": "python3"
  },
  "language_info": {
   "codemirror_mode": {
    "name": "ipython",
    "version": 3
   },
   "file_extension": ".py",
   "mimetype": "text/x-python",
   "name": "python",
   "nbconvert_exporter": "python",
   "pygments_lexer": "ipython3",
   "version": "3.8.8"
  }
 },
 "nbformat": 4,
 "nbformat_minor": 5
}
