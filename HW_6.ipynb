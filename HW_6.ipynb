{
 "cells": [
  {
   "cell_type": "markdown",
   "id": "c69dec92",
   "metadata": {},
   "source": [
    "### Домашнее задание\n",
    "\n",
    "1. взять любой набор данных для бинарной классификации (можно скачать один из модельных с https://archive.ics.uci.edu/ml/datasets.php)\n",
    "3. сделать feature engineering\n",
    "4. обучить любой классификатор (какой вам нравится)\n",
    "5. далее разделить ваш набор данных на два множества: P (positives) и U (unlabeled). Причем брать нужно не все положительные (класс 1) примеры, а только лишь часть\n",
    "6. применить random negative sampling для построения классификатора в новых условиях\n",
    "7. сравнить качество с решением из пункта 4 (построить отчет - таблицу метрик)\n",
    "8. поэкспериментировать с долей P на шаге 5 (как будет меняться качество модели при уменьшении/увеличении размера P)"
   ]
  },
  {
   "cell_type": "markdown",
   "id": "2c867ca9",
   "metadata": {},
   "source": [
    "#### Описание датасета\n",
    "Данные по кредитному скорингу.\n",
    "\n",
    "Home Ownership - домовладение\n",
    "\n",
    "Annual Income - годовой доход\n",
    "\n",
    "Years in current job - количество лет на текущем месте работы\n",
    "\n",
    "Tax Liens - налоговые обременения\n",
    "\n",
    "Number of Open Accounts - количество открытых счетов\n",
    "\n",
    "Years of Credit History - количество лет кредитной истории\n",
    "\n",
    "Maximum Open Credit - наибольший открытый кредит\n",
    "\n",
    "Number of Credit Problems - количество проблем с кредитом\n",
    "\n",
    "Months since last delinquent - количество месяцев с последней просрочки платежа\n",
    "\n",
    "Bankruptcies - банкротства\n",
    "\n",
    "Purpose - цель кредита\n",
    "\n",
    "Term - срок кредита\n",
    "\n",
    "Current Loan Amount - текущая сумма кредита\n",
    "\n",
    "Current Credit Balance - текущий кредитный баланс\n",
    "\n",
    "Monthly Debt - ежемесячный долг\n",
    "\n",
    "Credit Default - факт невыполнения кредитных обязательств (0 - погашен вовремя, 1 - просрочка)"
   ]
  },
  {
   "cell_type": "code",
   "execution_count": 2,
   "id": "ca53bdf0",
   "metadata": {},
   "outputs": [
    {
     "name": "stdout",
     "output_type": "stream",
     "text": [
      "Collecting xgboost\n",
      "  Downloading xgboost-1.6.1-py3-none-win_amd64.whl (125.4 MB)\n",
      "Requirement already satisfied: scipy in c:\\programdata\\anaconda3\\lib\\site-packages (from xgboost) (1.6.2)\n",
      "Requirement already satisfied: numpy in c:\\programdata\\anaconda3\\lib\\site-packages (from xgboost) (1.20.1)\n",
      "Installing collected packages: xgboost\n",
      "Successfully installed xgboost-1.6.1\n",
      "Note: you may need to restart the kernel to use updated packages.\n"
     ]
    }
   ],
   "source": [
    "pip install xgboost"
   ]
  },
  {
   "cell_type": "code",
   "execution_count": 3,
   "id": "946c053c",
   "metadata": {},
   "outputs": [],
   "source": [
    "import numpy as np\n",
    "%matplotlib inline\n",
    "import matplotlib.pylab as plt\n",
    "from sklearn.metrics import recall_score, precision_score, roc_auc_score, accuracy_score, f1_score, precision_recall_curve\n",
    "import pandas as pd\n",
    "from sklearn.model_selection import train_test_split\n",
    "import xgboost as xgb\n",
    "from sklearn.pipeline import Pipeline, make_pipeline, FeatureUnion\n",
    "from sklearn.base import BaseEstimator, TransformerMixin\n",
    "import warnings\n",
    "warnings.filterwarnings('ignore')"
   ]
  },
  {
   "cell_type": "code",
   "execution_count": 5,
   "id": "b7f9f3f8",
   "metadata": {},
   "outputs": [
    {
     "data": {
      "text/html": [
       "<div>\n",
       "<style scoped>\n",
       "    .dataframe tbody tr th:only-of-type {\n",
       "        vertical-align: middle;\n",
       "    }\n",
       "\n",
       "    .dataframe tbody tr th {\n",
       "        vertical-align: top;\n",
       "    }\n",
       "\n",
       "    .dataframe thead th {\n",
       "        text-align: right;\n",
       "    }\n",
       "</style>\n",
       "<table border=\"1\" class=\"dataframe\">\n",
       "  <thead>\n",
       "    <tr style=\"text-align: right;\">\n",
       "      <th></th>\n",
       "      <th>Home Ownership</th>\n",
       "      <th>Annual Income</th>\n",
       "      <th>Years in current job</th>\n",
       "      <th>Tax Liens</th>\n",
       "      <th>Number of Open Accounts</th>\n",
       "      <th>Years of Credit History</th>\n",
       "      <th>Maximum Open Credit</th>\n",
       "      <th>Number of Credit Problems</th>\n",
       "      <th>Months since last delinquent</th>\n",
       "      <th>Bankruptcies</th>\n",
       "      <th>Purpose</th>\n",
       "      <th>Term</th>\n",
       "      <th>Current Loan Amount</th>\n",
       "      <th>Current Credit Balance</th>\n",
       "      <th>Monthly Debt</th>\n",
       "      <th>Credit Score</th>\n",
       "      <th>Credit Default</th>\n",
       "    </tr>\n",
       "  </thead>\n",
       "  <tbody>\n",
       "    <tr>\n",
       "      <th>0</th>\n",
       "      <td>Own Home</td>\n",
       "      <td>482087.0</td>\n",
       "      <td>NaN</td>\n",
       "      <td>0.0</td>\n",
       "      <td>11.0</td>\n",
       "      <td>26.3</td>\n",
       "      <td>685960.0</td>\n",
       "      <td>1.0</td>\n",
       "      <td>NaN</td>\n",
       "      <td>1.0</td>\n",
       "      <td>debt consolidation</td>\n",
       "      <td>Short Term</td>\n",
       "      <td>99999999.0</td>\n",
       "      <td>47386.0</td>\n",
       "      <td>7914.0</td>\n",
       "      <td>749.0</td>\n",
       "      <td>0</td>\n",
       "    </tr>\n",
       "    <tr>\n",
       "      <th>1</th>\n",
       "      <td>Own Home</td>\n",
       "      <td>1025487.0</td>\n",
       "      <td>10+ years</td>\n",
       "      <td>0.0</td>\n",
       "      <td>15.0</td>\n",
       "      <td>15.3</td>\n",
       "      <td>1181730.0</td>\n",
       "      <td>0.0</td>\n",
       "      <td>NaN</td>\n",
       "      <td>0.0</td>\n",
       "      <td>debt consolidation</td>\n",
       "      <td>Long Term</td>\n",
       "      <td>264968.0</td>\n",
       "      <td>394972.0</td>\n",
       "      <td>18373.0</td>\n",
       "      <td>737.0</td>\n",
       "      <td>1</td>\n",
       "    </tr>\n",
       "    <tr>\n",
       "      <th>2</th>\n",
       "      <td>Home Mortgage</td>\n",
       "      <td>751412.0</td>\n",
       "      <td>8 years</td>\n",
       "      <td>0.0</td>\n",
       "      <td>11.0</td>\n",
       "      <td>35.0</td>\n",
       "      <td>1182434.0</td>\n",
       "      <td>0.0</td>\n",
       "      <td>NaN</td>\n",
       "      <td>0.0</td>\n",
       "      <td>debt consolidation</td>\n",
       "      <td>Short Term</td>\n",
       "      <td>99999999.0</td>\n",
       "      <td>308389.0</td>\n",
       "      <td>13651.0</td>\n",
       "      <td>742.0</td>\n",
       "      <td>0</td>\n",
       "    </tr>\n",
       "    <tr>\n",
       "      <th>3</th>\n",
       "      <td>Own Home</td>\n",
       "      <td>805068.0</td>\n",
       "      <td>6 years</td>\n",
       "      <td>0.0</td>\n",
       "      <td>8.0</td>\n",
       "      <td>22.5</td>\n",
       "      <td>147400.0</td>\n",
       "      <td>1.0</td>\n",
       "      <td>NaN</td>\n",
       "      <td>1.0</td>\n",
       "      <td>debt consolidation</td>\n",
       "      <td>Short Term</td>\n",
       "      <td>121396.0</td>\n",
       "      <td>95855.0</td>\n",
       "      <td>11338.0</td>\n",
       "      <td>694.0</td>\n",
       "      <td>0</td>\n",
       "    </tr>\n",
       "    <tr>\n",
       "      <th>4</th>\n",
       "      <td>Rent</td>\n",
       "      <td>776264.0</td>\n",
       "      <td>8 years</td>\n",
       "      <td>0.0</td>\n",
       "      <td>13.0</td>\n",
       "      <td>13.6</td>\n",
       "      <td>385836.0</td>\n",
       "      <td>1.0</td>\n",
       "      <td>NaN</td>\n",
       "      <td>0.0</td>\n",
       "      <td>debt consolidation</td>\n",
       "      <td>Short Term</td>\n",
       "      <td>125840.0</td>\n",
       "      <td>93309.0</td>\n",
       "      <td>7180.0</td>\n",
       "      <td>719.0</td>\n",
       "      <td>0</td>\n",
       "    </tr>\n",
       "  </tbody>\n",
       "</table>\n",
       "</div>"
      ],
      "text/plain": [
       "  Home Ownership  Annual Income Years in current job  Tax Liens  \\\n",
       "0       Own Home       482087.0                  NaN        0.0   \n",
       "1       Own Home      1025487.0            10+ years        0.0   \n",
       "2  Home Mortgage       751412.0              8 years        0.0   \n",
       "3       Own Home       805068.0              6 years        0.0   \n",
       "4           Rent       776264.0              8 years        0.0   \n",
       "\n",
       "   Number of Open Accounts  Years of Credit History  Maximum Open Credit  \\\n",
       "0                     11.0                     26.3             685960.0   \n",
       "1                     15.0                     15.3            1181730.0   \n",
       "2                     11.0                     35.0            1182434.0   \n",
       "3                      8.0                     22.5             147400.0   \n",
       "4                     13.0                     13.6             385836.0   \n",
       "\n",
       "   Number of Credit Problems  Months since last delinquent  Bankruptcies  \\\n",
       "0                        1.0                           NaN           1.0   \n",
       "1                        0.0                           NaN           0.0   \n",
       "2                        0.0                           NaN           0.0   \n",
       "3                        1.0                           NaN           1.0   \n",
       "4                        1.0                           NaN           0.0   \n",
       "\n",
       "              Purpose        Term  Current Loan Amount  \\\n",
       "0  debt consolidation  Short Term           99999999.0   \n",
       "1  debt consolidation   Long Term             264968.0   \n",
       "2  debt consolidation  Short Term           99999999.0   \n",
       "3  debt consolidation  Short Term             121396.0   \n",
       "4  debt consolidation  Short Term             125840.0   \n",
       "\n",
       "   Current Credit Balance  Monthly Debt  Credit Score  Credit Default  \n",
       "0                 47386.0        7914.0         749.0               0  \n",
       "1                394972.0       18373.0         737.0               1  \n",
       "2                308389.0       13651.0         742.0               0  \n",
       "3                 95855.0       11338.0         694.0               0  \n",
       "4                 93309.0        7180.0         719.0               0  "
      ]
     },
     "execution_count": 5,
     "metadata": {},
     "output_type": "execute_result"
    }
   ],
   "source": [
    "df = pd.read_csv('train_data.csv')\n",
    "df.head(5)"
   ]
  },
  {
   "cell_type": "markdown",
   "id": "dd35560c",
   "metadata": {},
   "source": [
    "почистим от того , что мешает нам отправить данные в модель."
   ]
  },
  {
   "cell_type": "code",
   "execution_count": 6,
   "id": "e4184d56",
   "metadata": {},
   "outputs": [],
   "source": [
    "df.drop('Months since last delinquent', axis = 1, inplace=True) \n",
    "df.dropna(inplace=True)\n",
    "df.reset_index(drop=True, inplace=True)"
   ]
  },
  {
   "cell_type": "code",
   "execution_count": 7,
   "id": "d878a023",
   "metadata": {},
   "outputs": [
    {
     "name": "stdout",
     "output_type": "stream",
     "text": [
      "<class 'pandas.core.frame.DataFrame'>\n",
      "RangeIndex: 5635 entries, 0 to 5634\n",
      "Data columns (total 16 columns):\n",
      " #   Column                     Non-Null Count  Dtype  \n",
      "---  ------                     --------------  -----  \n",
      " 0   Home Ownership             5635 non-null   object \n",
      " 1   Annual Income              5635 non-null   float64\n",
      " 2   Years in current job       5635 non-null   object \n",
      " 3   Tax Liens                  5635 non-null   float64\n",
      " 4   Number of Open Accounts    5635 non-null   float64\n",
      " 5   Years of Credit History    5635 non-null   float64\n",
      " 6   Maximum Open Credit        5635 non-null   float64\n",
      " 7   Number of Credit Problems  5635 non-null   float64\n",
      " 8   Bankruptcies               5635 non-null   float64\n",
      " 9   Purpose                    5635 non-null   object \n",
      " 10  Term                       5635 non-null   object \n",
      " 11  Current Loan Amount        5635 non-null   float64\n",
      " 12  Current Credit Balance     5635 non-null   float64\n",
      " 13  Monthly Debt               5635 non-null   float64\n",
      " 14  Credit Score               5635 non-null   float64\n",
      " 15  Credit Default             5635 non-null   int64  \n",
      "dtypes: float64(11), int64(1), object(4)\n",
      "memory usage: 704.5+ KB\n"
     ]
    }
   ],
   "source": [
    "df.info()"
   ]
  },
  {
   "cell_type": "code",
   "execution_count": 8,
   "id": "de3c426b",
   "metadata": {},
   "outputs": [
    {
     "data": {
      "text/plain": [
       "0    4156\n",
       "1    1479\n",
       "Name: Credit Default, dtype: int64"
      ]
     },
     "execution_count": 8,
     "metadata": {},
     "output_type": "execute_result"
    }
   ],
   "source": [
    "df['Credit Default'].value_counts()"
   ]
  },
  {
   "cell_type": "markdown",
   "id": "92173400",
   "metadata": {},
   "source": [
    "Разделим на тест\\трейн"
   ]
  },
  {
   "cell_type": "code",
   "execution_count": 9,
   "id": "190d5621",
   "metadata": {},
   "outputs": [],
   "source": [
    "X_train, X_test, y_train, y_test = train_test_split(df.drop('Credit Default', axis = 1), df['Credit Default'], test_size=0.2, random_state=7)"
   ]
  },
  {
   "cell_type": "markdown",
   "id": "10df17cb",
   "metadata": {},
   "source": [
    "Напишем пайплайн для обработки"
   ]
  },
  {
   "cell_type": "code",
   "execution_count": 10,
   "id": "bc7caa37",
   "metadata": {},
   "outputs": [],
   "source": [
    "class FeatureSelector(BaseEstimator, TransformerMixin):\n",
    "    def __init__(self, column):\n",
    "        self.column = column\n",
    "\n",
    "    def fit(self, X, y=None):\n",
    "        return self\n",
    "\n",
    "    def transform(self, X, y=None):\n",
    "        return X[self.column]\n",
    "    \n",
    "\n",
    "class NumberSelector(BaseEstimator, TransformerMixin):\n",
    "\n",
    "    def __init__(self, key):\n",
    "        self.key = key\n",
    "\n",
    "    def fit(self, X, y=None):\n",
    "        return self\n",
    "\n",
    "    def transform(self, X):\n",
    "        return X[[self.key]]\n",
    "    \n",
    "    \n",
    "class OHEEncoder(BaseEstimator, TransformerMixin):\n",
    "    def __init__(self, key):\n",
    "        self.key = key\n",
    "        self.columns = []\n",
    "\n",
    "    def fit(self, X, y=None):\n",
    "        self.columns = [col for col in pd.get_dummies(X, prefix=self.key, drop_first=True).columns]\n",
    "        return self\n",
    "\n",
    "    def transform(self, X):\n",
    "        X = pd.get_dummies(X, prefix=self.key, drop_first=True)\n",
    "        test_columns = [col for col in X.columns]\n",
    "        \n",
    "        for col_ in self.columns:\n",
    "            if col_ not in test_columns:\n",
    "                X[col_] = 0\n",
    "        return X[self.columns]"
   ]
  },
  {
   "cell_type": "markdown",
   "id": "ccd7f463",
   "metadata": {},
   "source": [
    "Определим столбцы"
   ]
  },
  {
   "cell_type": "code",
   "execution_count": 11,
   "id": "47e232ef",
   "metadata": {},
   "outputs": [],
   "source": [
    "continuous_columns = X_train.select_dtypes(include='number').columns.to_list()\n",
    "categorical_columns = X_train.select_dtypes(exclude='number').columns.to_list()"
   ]
  },
  {
   "cell_type": "markdown",
   "id": "27a47496",
   "metadata": {},
   "source": [
    "Обработаем наши фичи и объеденим"
   ]
  },
  {
   "cell_type": "code",
   "execution_count": 12,
   "id": "41e23eaa",
   "metadata": {},
   "outputs": [],
   "source": [
    "final_transformers = list()\n",
    "\n",
    "for cat_col in categorical_columns:\n",
    "    cat_transformer = Pipeline([\n",
    "                ('selector', FeatureSelector(column=cat_col)),\n",
    "                ('ohe', OHEEncoder(key=cat_col))\n",
    "            ])\n",
    "    \n",
    "    final_transformers.append((cat_col, cat_transformer))\n",
    "    \n",
    "for cont_col in continuous_columns:\n",
    "    cont_transformer = Pipeline([\n",
    "                ('selector', NumberSelector(key=cont_col)),\n",
    "                \n",
    "            ])\n",
    "    \n",
    "    final_transformers.append((cont_col, cont_transformer))"
   ]
  },
  {
   "cell_type": "code",
   "execution_count": 13,
   "id": "5b193172",
   "metadata": {},
   "outputs": [],
   "source": [
    "feats = FeatureUnion(final_transformers)\n",
    "\n",
    "feature_processing = Pipeline([('feats', feats)])"
   ]
  },
  {
   "cell_type": "markdown",
   "id": "72209b9e",
   "metadata": {},
   "source": [
    "Используем xgboost"
   ]
  },
  {
   "cell_type": "code",
   "execution_count": 14,
   "id": "5ceb7039",
   "metadata": {},
   "outputs": [],
   "source": [
    "model = xgb.XGBClassifier(random_state=7)"
   ]
  },
  {
   "cell_type": "markdown",
   "id": "686b3f45",
   "metadata": {},
   "source": [
    "Соберем конечный пайплайн"
   ]
  },
  {
   "cell_type": "code",
   "execution_count": 15,
   "id": "34494eb6",
   "metadata": {},
   "outputs": [],
   "source": [
    "pipeline = Pipeline([\n",
    "    ('features', feats),\n",
    "    ('classifier', model)\n",
    "])"
   ]
  },
  {
   "cell_type": "markdown",
   "id": "2c4537f6",
   "metadata": {},
   "source": [
    "Обучим нашу изначальную модель"
   ]
  },
  {
   "cell_type": "code",
   "execution_count": 16,
   "id": "3ffd0b69",
   "metadata": {},
   "outputs": [
    {
     "data": {
      "text/plain": [
       "Pipeline(steps=[('features',\n",
       "                 FeatureUnion(transformer_list=[('Home Ownership',\n",
       "                                                 Pipeline(steps=[('selector',\n",
       "                                                                  FeatureSelector(column='Home '\n",
       "                                                                                         'Ownership')),\n",
       "                                                                 ('ohe',\n",
       "                                                                  OHEEncoder(key='Home '\n",
       "                                                                                 'Ownership'))])),\n",
       "                                                ('Years in current job',\n",
       "                                                 Pipeline(steps=[('selector',\n",
       "                                                                  FeatureSelector(column='Years '\n",
       "                                                                                         'in '\n",
       "                                                                                         'current '\n",
       "                                                                                         'job')),\n",
       "                                                                 ('ohe',\n",
       "                                                                  OHEEncoder(key='Years '\n",
       "                                                                                 'in '\n",
       "                                                                                 'current '\n",
       "                                                                                 'job'))])),\n",
       "                                                ('Pur...\n",
       "                               gamma=0, gpu_id=-1, grow_policy='depthwise',\n",
       "                               importance_type=None, interaction_constraints='',\n",
       "                               learning_rate=0.300000012, max_bin=256,\n",
       "                               max_cat_to_onehot=4, max_delta_step=0,\n",
       "                               max_depth=6, max_leaves=0, min_child_weight=1,\n",
       "                               missing=nan, monotone_constraints='()',\n",
       "                               n_estimators=100, n_jobs=0, num_parallel_tree=1,\n",
       "                               predictor='auto', random_state=7, reg_alpha=0,\n",
       "                               reg_lambda=1, ...))])"
      ]
     },
     "execution_count": 16,
     "metadata": {},
     "output_type": "execute_result"
    }
   ],
   "source": [
    "pipeline.fit(X_train, y_train)"
   ]
  },
  {
   "cell_type": "code",
   "execution_count": 17,
   "id": "d93b403a",
   "metadata": {},
   "outputs": [],
   "source": [
    "y_predict = pipeline.predict(X_test)"
   ]
  },
  {
   "cell_type": "markdown",
   "id": "1516debc",
   "metadata": {},
   "source": [
    "Результаты соберем в таблицу"
   ]
  },
  {
   "cell_type": "code",
   "execution_count": 24,
   "id": "f28b7a4e",
   "metadata": {},
   "outputs": [],
   "source": [
    "results = {'model' : [], 'f1' : [], 'recall' : [], 'precision' : [] }"
   ]
  },
  {
   "cell_type": "code",
   "execution_count": 25,
   "id": "f5f541b6",
   "metadata": {},
   "outputs": [],
   "source": [
    "results['model'].append('commonXGB')\n",
    "results['f1'].append(f1_score(y_test, y_predict))\n",
    "results['recall'].append(recall_score(y_test, y_predict, average='binary'))\n",
    "results['precision'].append(precision_score(y_test, y_predict, average='binary'))"
   ]
  },
  {
   "cell_type": "code",
   "execution_count": 26,
   "id": "00feeb2c",
   "metadata": {},
   "outputs": [],
   "source": [
    "samples = np.linspace(0.1, 1, 10)"
   ]
  },
  {
   "cell_type": "code",
   "execution_count": 27,
   "id": "ee4fbaa4",
   "metadata": {},
   "outputs": [],
   "source": [
    "for i in samples:\n",
    "    mod_data = X_train.copy()\n",
    "    mod_data['label'] = y_train\n",
    "    mod_data = mod_data.reset_index(drop=True)\n",
    "\n",
    "\n",
    "    pos_ind = np.where(mod_data.iloc[:, -1].values == 1)[0]\n",
    "\n",
    "    # shuffle them\n",
    "    np.random.shuffle(pos_ind)\n",
    "    \n",
    "    perc = i\n",
    "    pos_sample_len = int(np.ceil(perc * len(pos_ind)))\n",
    "\n",
    "    \n",
    "    pos_sample = pos_ind[:pos_sample_len]\n",
    "    mod_data['class_test'] = -1\n",
    "    mod_data.loc[pos_sample,'class_test'] = 1\n",
    "   \n",
    "    mod_data = mod_data.sample(frac=1)\n",
    "\n",
    "\n",
    "    data_N = mod_data[mod_data['class_test'] == -1]\n",
    "    data_P = mod_data[mod_data['class_test'] == 1]\n",
    "\n",
    "    neg_sample = data_N[:data_P.shape[0]]\n",
    "    sample_test = data_N[data_P.shape[0]:]\n",
    "    pos_sample = data_P.copy()\n",
    "\n",
    "    \n",
    "    sample_train = pd.concat([neg_sample, pos_sample]).sample(frac=1)\n",
    "\n",
    "    sample_train.loc[sample_train['class_test'] == -1, 'class_test'] = 0\n",
    "    X_sample_train = sample_train.drop(columns=['class_test', 'label'])\n",
    "    y_sample_train = sample_train['class_test'] \n",
    "\n",
    "    pipeline.fit(X_sample_train, y_sample_train)\n",
    "\n",
    "    y_predict = pipeline.predict(X_test)\n",
    "\n",
    "    results['model'].append(f'commonXGB+RNS_{i:.1f}sample')\n",
    "    results['f1'].append(f1_score(y_test, y_predict))\n",
    "    results['recall'].append(recall_score(y_test, y_predict, average='binary'))\n",
    "    results['precision'].append(precision_score(y_test, y_predict, average='binary'))"
   ]
  },
  {
   "cell_type": "code",
   "execution_count": 28,
   "id": "5cf460bd",
   "metadata": {},
   "outputs": [
    {
     "data": {
      "text/html": [
       "<div>\n",
       "<style scoped>\n",
       "    .dataframe tbody tr th:only-of-type {\n",
       "        vertical-align: middle;\n",
       "    }\n",
       "\n",
       "    .dataframe tbody tr th {\n",
       "        vertical-align: top;\n",
       "    }\n",
       "\n",
       "    .dataframe thead th {\n",
       "        text-align: right;\n",
       "    }\n",
       "</style>\n",
       "<table border=\"1\" class=\"dataframe\">\n",
       "  <thead>\n",
       "    <tr style=\"text-align: right;\">\n",
       "      <th></th>\n",
       "      <th>model</th>\n",
       "      <th>f1</th>\n",
       "      <th>recall</th>\n",
       "      <th>precision</th>\n",
       "    </tr>\n",
       "  </thead>\n",
       "  <tbody>\n",
       "    <tr>\n",
       "      <th>0</th>\n",
       "      <td>commonXGB</td>\n",
       "      <td>0.525034</td>\n",
       "      <td>0.638158</td>\n",
       "      <td>0.445977</td>\n",
       "    </tr>\n",
       "    <tr>\n",
       "      <th>1</th>\n",
       "      <td>commonXGB+RNS_0.1sample</td>\n",
       "      <td>0.461949</td>\n",
       "      <td>0.569079</td>\n",
       "      <td>0.388764</td>\n",
       "    </tr>\n",
       "    <tr>\n",
       "      <th>2</th>\n",
       "      <td>commonXGB+RNS_0.2sample</td>\n",
       "      <td>0.461738</td>\n",
       "      <td>0.585526</td>\n",
       "      <td>0.381156</td>\n",
       "    </tr>\n",
       "    <tr>\n",
       "      <th>3</th>\n",
       "      <td>commonXGB+RNS_0.3sample</td>\n",
       "      <td>0.485788</td>\n",
       "      <td>0.618421</td>\n",
       "      <td>0.400000</td>\n",
       "    </tr>\n",
       "    <tr>\n",
       "      <th>4</th>\n",
       "      <td>commonXGB+RNS_0.4sample</td>\n",
       "      <td>0.485876</td>\n",
       "      <td>0.565789</td>\n",
       "      <td>0.425743</td>\n",
       "    </tr>\n",
       "    <tr>\n",
       "      <th>5</th>\n",
       "      <td>commonXGB+RNS_0.5sample</td>\n",
       "      <td>0.502717</td>\n",
       "      <td>0.608553</td>\n",
       "      <td>0.428241</td>\n",
       "    </tr>\n",
       "    <tr>\n",
       "      <th>6</th>\n",
       "      <td>commonXGB+RNS_0.6sample</td>\n",
       "      <td>0.484456</td>\n",
       "      <td>0.615132</td>\n",
       "      <td>0.399573</td>\n",
       "    </tr>\n",
       "    <tr>\n",
       "      <th>7</th>\n",
       "      <td>commonXGB+RNS_0.7sample</td>\n",
       "      <td>0.507227</td>\n",
       "      <td>0.634868</td>\n",
       "      <td>0.422319</td>\n",
       "    </tr>\n",
       "    <tr>\n",
       "      <th>8</th>\n",
       "      <td>commonXGB+RNS_0.8sample</td>\n",
       "      <td>0.488211</td>\n",
       "      <td>0.578947</td>\n",
       "      <td>0.422062</td>\n",
       "    </tr>\n",
       "    <tr>\n",
       "      <th>9</th>\n",
       "      <td>commonXGB+RNS_0.9sample</td>\n",
       "      <td>0.527591</td>\n",
       "      <td>0.644737</td>\n",
       "      <td>0.446469</td>\n",
       "    </tr>\n",
       "    <tr>\n",
       "      <th>10</th>\n",
       "      <td>commonXGB+RNS_1.0sample</td>\n",
       "      <td>0.529716</td>\n",
       "      <td>0.674342</td>\n",
       "      <td>0.436170</td>\n",
       "    </tr>\n",
       "  </tbody>\n",
       "</table>\n",
       "</div>"
      ],
      "text/plain": [
       "                      model        f1    recall  precision\n",
       "0                 commonXGB  0.525034  0.638158   0.445977\n",
       "1   commonXGB+RNS_0.1sample  0.461949  0.569079   0.388764\n",
       "2   commonXGB+RNS_0.2sample  0.461738  0.585526   0.381156\n",
       "3   commonXGB+RNS_0.3sample  0.485788  0.618421   0.400000\n",
       "4   commonXGB+RNS_0.4sample  0.485876  0.565789   0.425743\n",
       "5   commonXGB+RNS_0.5sample  0.502717  0.608553   0.428241\n",
       "6   commonXGB+RNS_0.6sample  0.484456  0.615132   0.399573\n",
       "7   commonXGB+RNS_0.7sample  0.507227  0.634868   0.422319\n",
       "8   commonXGB+RNS_0.8sample  0.488211  0.578947   0.422062\n",
       "9   commonXGB+RNS_0.9sample  0.527591  0.644737   0.446469\n",
       "10  commonXGB+RNS_1.0sample  0.529716  0.674342   0.436170"
      ]
     },
     "execution_count": 28,
     "metadata": {},
     "output_type": "execute_result"
    }
   ],
   "source": [
    "pd.DataFrame(results)"
   ]
  },
  {
   "cell_type": "markdown",
   "id": "e7da0dc1",
   "metadata": {},
   "source": [
    "Вот такие получились результаты"
   ]
  },
  {
   "cell_type": "code",
   "execution_count": null,
   "id": "897beb6d",
   "metadata": {},
   "outputs": [],
   "source": []
  }
 ],
 "metadata": {
  "kernelspec": {
   "display_name": "Python 3",
   "language": "python",
   "name": "python3"
  },
  "language_info": {
   "codemirror_mode": {
    "name": "ipython",
    "version": 3
   },
   "file_extension": ".py",
   "mimetype": "text/x-python",
   "name": "python",
   "nbconvert_exporter": "python",
   "pygments_lexer": "ipython3",
   "version": "3.8.8"
  }
 },
 "nbformat": 4,
 "nbformat_minor": 5
}
